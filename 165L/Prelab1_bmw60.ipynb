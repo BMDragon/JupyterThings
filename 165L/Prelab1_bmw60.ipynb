{
 "cells": [
  {
   "cell_type": "markdown",
   "metadata": {},
   "source": [
    "## Prelab 1\n",
    "#### Brandon Weiss\n",
    "##### 25 August 2020\n",
    "\n",
    "### Familiarizing with a digital multimeter"
   ]
  },
  {
   "cell_type": "markdown",
   "metadata": {},
   "source": [
    "1. Switch on your DMM and switch it to measure voltage.  Switch it between different voltage ranges (e.g. between 200 Volts, 20 volts, 2 volts, 200 mV, etc).   How many digits are shown on screen?\n",
    "\n",
    "| Voltage | digits |\n",
    "|---------|--------|\n",
    "| 200m    | 3      |\n",
    "| 2000m   | 3      |\n",
    "| 20      | 3      |\n",
    "| 200     | 3      |\n",
    "| 500     | 3      |"
   ]
  },
  {
   "cell_type": "markdown",
   "metadata": {},
   "source": [
    "2. For each range, write down how many digits (if any ) occur after the decimal place.\n",
    "\n",
    "| Voltage | digits |\n",
    "|---------|--------|\n",
    "| 200m    | 1      |\n",
    "| 2000m   | 0      |\n",
    "| 20      | 2      |\n",
    "| 200     | 1      |\n",
    "| 500     | 0      |"
   ]
  },
  {
   "cell_type": "markdown",
   "metadata": {},
   "source": [
    "3. Based on the information above and what you've observed, calculate for each voltage range, the relative uncertainty of a measurement assuming the measured value is the maximum possible value displayable in that range.\n",
    "\n",
    "| Voltage range | relative uncertainty |\n",
    "|---------------|----------------------|\n",
    "| 200m          | +-0.05 mV            |\n",
    "| 2000m         | +-0.5 mV             |\n",
    "| 20            | +-0.005 V            |\n",
    "| 200           | +-0.05 V             |\n",
    "| 500           | +-0.5 V              |"
   ]
  },
  {
   "cell_type": "markdown",
   "metadata": {},
   "source": [
    "4.  Take out the measurement probe wires that come with your DMM. These terminate with pointed metal ends (used for making the actual measurements), and with plastic \"banana plug\" connectors on the end which should be plugged into the DMM."
   ]
  },
  {
   "cell_type": "markdown",
   "metadata": {},
   "source": [
    "5.  Read the jacks on the bottom of the DMM.  One of them should be colored black and say \"COM\", which stands for \"Common\". It is the \"common return point\", and provides the reference relative to which voltage measurements will be made.   The black probe is plugged into this socket and should be considered the \"0 volt\" or \"reference\" wire.  When measuring voltages, this is normally connected to the negative terminal of your voltage source."
   ]
  },
  {
   "cell_type": "markdown",
   "metadata": {},
   "source": [
    "6. The other sockets will have various labels for the quantities they must be used to measure. You are looking for the \"V\" label, which stands for voltage, since that is the measurement you need to make.  Plug the red probe wire into that socket."
   ]
  },
  {
   "cell_type": "markdown",
   "metadata": {},
   "source": [
    "7.  Take out your 9V battery.  Measure the voltage of the battery with uncertainty.\n",
    "\n",
    "9V Battery: 9.69 +-0.005 V"
   ]
  },
  {
   "cell_type": "markdown",
   "metadata": {},
   "source": [
    "8.  Take out your AA battery pack.  It's time to measure the voltage of your battery pack (with uncertainty), but first you must make the connections.   First, of course, insert batteries into the battery pack.   Now find some jumper wires (also called \"leads\").  Your kit should have 7; these are short colored lengths of wire with a metal pin on each end.   You can plug these into the AA battery pack's plastic connector.   But now you must connect the jumper wires to your multimeter probes.  Take out your alligator clip leads.  You should have two.  Use these to connect the jumper wires to your DMM probes.\n",
    "\n",
    "Now record your voltage measurement with uncertainty.\n",
    "\n",
    "4 Battery pack: 6.46 +-0.005 V"
   ]
  }
 ],
 "metadata": {
  "kernelspec": {
   "display_name": "Python 3",
   "language": "python",
   "name": "python3"
  },
  "language_info": {
   "codemirror_mode": {
    "name": "ipython",
    "version": 3
   },
   "file_extension": ".py",
   "mimetype": "text/x-python",
   "name": "python",
   "nbconvert_exporter": "python",
   "pygments_lexer": "ipython3",
   "version": "3.7.4"
  }
 },
 "nbformat": 4,
 "nbformat_minor": 2
}
