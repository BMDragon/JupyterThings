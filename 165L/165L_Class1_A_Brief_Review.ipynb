{
 "cells": [
  {
   "cell_type": "markdown",
   "metadata": {},
   "source": [
    "# Let's review some of the concepts we covered last semester\n",
    "\n",
    "It's important to start refreshing our memories on how to use Jupyer notebooks, coding, using NumPy arrays, generating plots, and doing calculations.  Let's do an activity to refresh our memories!\n",
    "\n",
    "\n",
    "## 1.  How to import numpy and matplotlib.pyplot?\n",
    "\n",
    "Write your imports below!"
   ]
  },
  {
   "cell_type": "code",
   "execution_count": 127,
   "metadata": {},
   "outputs": [],
   "source": [
    "# Imports\n",
    "import numpy as np\n",
    "import matplotlib.pyplot as plt"
   ]
  },
  {
   "cell_type": "markdown",
   "metadata": {},
   "source": [
    "## 2. Let's do a bit of a statistics refresher.  Time to generate some random values.\n",
    "\n",
    "Assuming you have imported numpy as \"np\", then the following statement will create an *array of N random values*:\n",
    "\n",
    "`np.random.randn(N)`\n",
    "\n",
    "In the cell below generate 5000 random values and store them in a new array."
   ]
  },
  {
   "cell_type": "code",
   "execution_count": 128,
   "metadata": {},
   "outputs": [],
   "source": [
    "# Create an array of random samples\n",
    "N = 5000\n",
    "myArray = np.random.randn(N)"
   ]
  },
  {
   "cell_type": "markdown",
   "metadata": {},
   "source": [
    "## 3. Calculate some properties of these samples\n",
    "\n",
    "Use numpy capabilities to:\n",
    "\n",
    "1. Calculate the mean\n",
    "1. Calculate the standard deviation\n",
    "1. Calculate the standard error in the mean"
   ]
  },
  {
   "cell_type": "code",
   "execution_count": 129,
   "metadata": {},
   "outputs": [
    {
     "name": "stdout",
     "output_type": "stream",
     "text": [
      "mean: 0.018224511602542025\n",
      "st dev: 0.9860436511546503\n",
      "st err: 0.013944763045547913\n"
     ]
    }
   ],
   "source": [
    "print(\"mean: \" + str(np.mean(myArray)))\n",
    "print(\"st dev: \" + str(np.std(myArray)))\n",
    "print(\"st err: \" + str(np.std(myArray)/(N**0.5)))"
   ]
  },
  {
   "cell_type": "markdown",
   "metadata": {},
   "source": [
    "## 4. Generate a histogram\n",
    "\n",
    "Recall that the `plot.hist()` command will generate a histogram, and you can use the `bins=` keyword to specify how many bins to use."
   ]
  },
  {
   "cell_type": "code",
   "execution_count": 130,
   "metadata": {},
   "outputs": [
    {
     "data": {
      "image/png": "[encoded data removed]",
      "text/plain": [
       "<Figure size 432x288 with 1 Axes>"
      ]
     },
     "metadata": {
      "needs_background": "light"
     },
     "output_type": "display_data"
    }
   ],
   "source": [
    "plt.hist(myArray, bins=40)\n",
    "plt.show()"
   ]
  },
  {
   "cell_type": "markdown",
   "metadata": {},
   "source": [
    "### The output of the hist command\n",
    "\n",
    "The hist() plot function generates some output arrays representing the histogram.  Turn the cell below into a Markdown cell, discuss the meaning of the output arrays and explain."
   ]
  },
  {
   "cell_type": "markdown",
   "metadata": {},
   "source": [
    "First one shows the total number of elements that are in each bin. Second one shows the boundaries of each bin."
   ]
  },
  {
   "cell_type": "markdown",
   "metadata": {},
   "source": [
    "Now figure out how to store these arrays output by the hist() plot so you can do things with them!"
   ]
  },
  {
   "cell_type": "code",
   "execution_count": 131,
   "metadata": {},
   "outputs": [
    {
     "name": "stdout",
     "output_type": "stream",
     "text": [
      "[  1.   3.   1.   6.   6.   8.  24.  23.  44.  59.  73.  94. 147. 161.\n",
      " 216. 254. 291. 352. 360. 354. 326. 364. 344. 282. 272. 220. 188. 143.\n",
      " 101.  95.  66.  30.  34.  29.   8.  11.   8.   0.   1.   1.]\n"
     ]
    },
    {
     "data": {
      "image/png": "[encoded data removed]",
      "text/plain": [
       "<Figure size 432x288 with 1 Axes>"
      ]
     },
     "metadata": {
      "needs_background": "light"
     },
     "output_type": "display_data"
    }
   ],
   "source": [
    "array1 = plt.hist(myArray, bins=40)[0]\n",
    "print(array1)"
   ]
  },
  {
   "cell_type": "code",
   "execution_count": 132,
   "metadata": {},
   "outputs": [
    {
     "name": "stdout",
     "output_type": "stream",
     "text": [
      "[-3.5759994  -3.39743141 -3.21886342 -3.04029542 -2.86172743 -2.68315944\n",
      " -2.50459144 -2.32602345 -2.14745546 -1.96888746 -1.79031947 -1.61175148\n",
      " -1.43318348 -1.25461549 -1.0760475  -0.8974795  -0.71891151 -0.54034352\n",
      " -0.36177552 -0.18320753 -0.00463954  0.17392846  0.35249645  0.53106444\n",
      "  0.70963244  0.88820043  1.06676842  1.24533642  1.42390441  1.6024724\n",
      "  1.7810404   1.95960839  2.13817638  2.31674438  2.49531237  2.67388036\n",
      "  2.85244836  3.03101635  3.20958434  3.38815234  3.56672033]\n"
     ]
    },
    {
     "data": {
      "image/png": "[encoded data removed]",
      "text/plain": [
       "<Figure size 432x288 with 1 Axes>"
      ]
     },
     "metadata": {
      "needs_background": "light"
     },
     "output_type": "display_data"
    }
   ],
   "source": [
    "array2 = plt.hist(myArray, bins=40)[1]\n",
    "print(array2)"
   ]
  },
  {
   "cell_type": "markdown",
   "metadata": {},
   "source": [
    "### Review array slicing and indexing\n",
    "\n",
    "- Use array slicing and the `plot.plot()` command to plot the histogram **omitting** the first ten bins and the last ten bins.\n",
    "\n",
    "- Use array slicing to find the sum of the first ten bins taken together with the last ten bins.\n"
   ]
  },
  {
   "cell_type": "code",
   "execution_count": 133,
   "metadata": {},
   "outputs": [
    {
     "data": {
      "image/png": "[encoded data removed]",
      "text/plain": [
       "<Figure size 432x288 with 1 Axes>"
      ]
     },
     "metadata": {
      "needs_background": "light"
     },
     "output_type": "display_data"
    }
   ],
   "source": [
    "array3 = np.divide(np.add(array2[:-1], array2[1:]), 2)\n",
    "plt.bar(array3[10:-10], array1[10:-10])\n",
    "plt.show()"
   ]
  },
  {
   "cell_type": "code",
   "execution_count": 134,
   "metadata": {},
   "outputs": [
    {
     "name": "stdout",
     "output_type": "stream",
     "text": [
      "363.0\n"
     ]
    }
   ],
   "source": [
    "print(np.sum(array1[:10]) + np.sum(array1[-10:]))"
   ]
  },
  {
   "cell_type": "markdown",
   "metadata": {},
   "source": [
    "### Normalize the histogram\n",
    "\n",
    "To normalize the histogram, divide all the frequency counts by the total number of samples $N$.  Replot the normalized histogram below."
   ]
  },
  {
   "cell_type": "code",
   "execution_count": 135,
   "metadata": {},
   "outputs": [
    {
     "data": {
      "image/png": "[encoded data removed]",
      "text/plain": [
       "<Figure size 432x288 with 1 Axes>"
      ]
     },
     "metadata": {
      "needs_background": "light"
     },
     "output_type": "display_data"
    }
   ],
   "source": [
    "array4 = np.divide(array1, N)\n",
    "plt.bar(array3,array4)\n",
    "plt.show()"
   ]
  },
  {
   "cell_type": "markdown",
   "metadata": {},
   "source": [
    "### Sum the normalized histogram\n",
    "\n",
    "Print the sum of all bins in the normalized histogram.  Explain why we ought to expect to obtain this value?"
   ]
  },
  {
   "cell_type": "code",
   "execution_count": 136,
   "metadata": {},
   "outputs": [
    {
     "data": {
      "text/plain": [
       "1.0"
      ]
     },
     "execution_count": 136,
     "metadata": {},
     "output_type": "execute_result"
    }
   ],
   "source": [
    "# We expect 1 because we normalized by dividing by N\n",
    "np.sum(array4)"
   ]
  },
  {
   "cell_type": "markdown",
   "metadata": {},
   "source": [
    "## Defining Python functions and plotting mathematical functions\n",
    "\n",
    "Recall the `def` keyword will define a python function that takes input and returns output.  \n",
    "\n",
    "The Gaussian function is defined as follows:  given a variable x with a mean value $\\mu$ and standard deviation $\\sigma$,\n",
    "    \n",
    "    \n",
    "$$ f(x) = A\\,exp\\left(\\frac{-(x-\\mu)^2}{2\\sigma^2}\\right) $$\n",
    "    \n",
    "Define a Python function below that returns this Gaussian function.  Then use the output arrays from your histogram to plot this function (using `plot.plot()`) *on top* of the original histogram.  (Hint: you will need 2 plot statements, one after the other).\n"
   ]
  },
  {
   "cell_type": "code",
   "execution_count": 148,
   "metadata": {},
   "outputs": [],
   "source": [
    "def gaussian(x):\n",
    "    av = np.mean(x)\n",
    "    std = np.std(x)\n",
    "    return np.multiply(400, np.exp(np.multiply(-1, np.divide(np.multiply(np.subtract(x, av), np.subtract(x, av)), 2*(std**2)))))"
   ]
  },
  {
   "cell_type": "code",
   "execution_count": 149,
   "metadata": {},
   "outputs": [],
   "source": [
    "y = gaussian(np.sort(myArray))"
   ]
  },
  {
   "cell_type": "code",
   "execution_count": 150,
   "metadata": {},
   "outputs": [
    {
     "data": {
      "image/png": "[encoded data removed]",
      "text/plain": [
       "<Figure size 432x288 with 1 Axes>"
      ]
     },
     "metadata": {
      "needs_background": "light"
     },
     "output_type": "display_data"
    }
   ],
   "source": [
    "plt.hist(myArray, 40)\n",
    "plt.plot(np.sort(myArray), y, 'r-')\n",
    "plt.show()"
   ]
  },
  {
   "cell_type": "code",
   "execution_count": null,
   "metadata": {},
   "outputs": [],
   "source": []
  }
 ],
 "metadata": {
  "kernelspec": {
   "display_name": "Python 3",
   "language": "python",
   "name": "python3"
  },
  "language_info": {
   "codemirror_mode": {
    "name": "ipython",
    "version": 3
   },
   "file_extension": ".py",
   "mimetype": "text/x-python",
   "name": "python",
   "nbconvert_exporter": "python",
   "pygments_lexer": "ipython3",
   "version": "3.7.4"
  }
 },
 "nbformat": 4,
 "nbformat_minor": 4
}
