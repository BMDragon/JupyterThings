{
 "cells": [
  {
   "cell_type": "markdown",
   "metadata": {},
   "source": [
    "## Working with an Oscilloscope and Faraday's Law\n",
    "###### By Brandon Weiss\n",
    "#### 6 October 2020"
   ]
  },
  {
   "cell_type": "markdown",
   "metadata": {},
   "source": [
    "###### Objective\n",
    "Want to examine and justify Faraday's Law by using a magnet, inductor, and oscilloscope."
   ]
  },
  {
   "cell_type": "markdown",
   "metadata": {},
   "source": [
    "###### Procedure:\n",
    "1. Setup oscilloscope as shown in image below, but with trigger set to `NORM`.\n",
    "1. Pass a magnet by the end of the coil quickly and record the results."
   ]
  },
  {
   "cell_type": "markdown",
   "metadata": {},
   "source": [
    "###### Setup of the lab\n",
    "\n",
    "<img src=\"oscsetup.jpg\">"
   ]
  },
  {
   "cell_type": "markdown",
   "metadata": {},
   "source": [
    "###### Schematic of the connections\n",
    "\n",
    "<img src=\"oscSchematic.jpg\">"
   ]
  },
  {
   "cell_type": "markdown",
   "metadata": {},
   "source": [
    "###### Graph from the oscilloscope\n",
    "\n",
    "<img src=\"oscgraph1.jpg\">"
   ]
  },
  {
   "cell_type": "markdown",
   "metadata": {},
   "source": [
    "Faraday's Law states Voltage generated = $-N\\frac{d\\Phi_B}{dt}$.\n",
    "\n",
    "N is constant, so voltage is proportional to the time rate change of the magnetic flux through the inductor. When passing a magnet by the inductor, the magnetic flux increases as the magnet approaches, reaches a maximum at the point of closest approach, and decreases when moving away. This would make the graph of magnetic flux over time look like a gaussian, the derivative of which looks like the graph shown on the oscilloscope. This shows that the result on the oscilloscope lines up with what is described by Faraday's Law."
   ]
  },
  {
   "cell_type": "markdown",
   "metadata": {},
   "source": [
    "###### Graphical depiction of above statement\n",
    "\n",
    "<img src=\"oscExp.jpg\">"
   ]
  },
  {
   "cell_type": "code",
   "execution_count": null,
   "metadata": {},
   "outputs": [],
   "source": []
  }
 ],
 "metadata": {
  "kernelspec": {
   "display_name": "Python 3",
   "language": "python",
   "name": "python3"
  },
  "language_info": {
   "codemirror_mode": {
    "name": "ipython",
    "version": 3
   },
   "file_extension": ".py",
   "mimetype": "text/x-python",
   "name": "python",
   "nbconvert_exporter": "python",
   "pygments_lexer": "ipython3",
   "version": "3.7.4"
  }
 },
 "nbformat": 4,
 "nbformat_minor": 2
}
