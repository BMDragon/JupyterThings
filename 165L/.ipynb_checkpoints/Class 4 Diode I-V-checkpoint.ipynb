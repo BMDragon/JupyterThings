{
 "cells": [
  {
   "cell_type": "code",
   "execution_count": 1,
   "metadata": {},
   "outputs": [],
   "source": [
    "import numpy as np\n",
    "import matplotlib.pyplot as plot"
   ]
  },
  {
   "cell_type": "markdown",
   "metadata": {},
   "source": [
    "# Experiment -- Measuring I vs V curve part 2:  I vs V for a diode\n",
    "\n",
    "## Recap:  Resistance\n",
    "\n",
    "Last week you measured I vs V for a device called a resistor, which is simply a material (usually thin metal film or carbon) designed to resist the flow of charges through it.  You found a relationship between I and V that was highly linear.  This is called Ohm's Law, and the slope of the fit line between I and V is termed the **resistance, R** of the material, measured in Ohms  (1 $\\Omega$ = 1 Volt per Ampere).  Since this relationship is almost universal for uniform materials able to conduct current, we write:\n",
    "\n",
    "$$ V = IR $$\n",
    " \n",
    "Resistance is a property of both material and geometry.  We can calculate resistance of a given object from this relationship:\n",
    "\n",
    "$$ R = \\rho\\frac{l}{A} $$\n",
    "\n",
    "Where $\\rho$ is the innate electrical **resistivity** of a given material, and $l$ is the path length of that material through which charges must flow, and $A$ is the cross sectional area of that material that current will flow through.  \n",
    "\n",
    "\n",
    "<img src=\"Resistivity_geometry.png\" width=\"30%\">\n",
    "<div align='center'>\n",
    "<sub>Image courtesy Wikimedia commons</sub>\n",
    "</div>\n",
    "\n",
    "### Determinations of resistivity\n",
    "\n",
    "It stands to reason that by careful determination of material length and Area, and by careful measurement of resistance, you can determine the *resistivity* of  a given material by reversing the relationship above.  This is in practice how resistivity is often found.\n",
    "\n",
    "## Conductance\n",
    "\n",
    "Note that in some situations, where you are interested in how much current is caused by a given amount of voltage.  It may make sense to use the *inverse* of resistance.  This has a unit too!  \n",
    "\n",
    "**1 Sieman = 1 S = 1 Ampere per Volt**,  and the symbol is capital $G$:\n",
    "\n",
    "$$G = 1/R$$\n",
    "\n",
    "You may encounter this unit in scientific research because it is sometimes easier to speak of the amount of current caused by a certain potential difference than vice versa.\n"
   ]
  },
  {
   "cell_type": "markdown",
   "metadata": {},
   "source": [
    "## Next steps:  Measuring I vs V for a diode\n",
    "\n",
    "A diode is a *semiconductor device* made by sandwiching two semiconductor crystals together.  A P-type semiconductor, because of its structure, has an excess of positive regions (called 'holes') and a shortage of electrons. An N-type semiconductor has an excess of negative charge carriers (electrons).  When the two are put together, they create a **diode**, which is a device that *only conducts current in one direction*, and which displays a nonlinear behavior in regards to its V vs I relationship.  This is due to the **physics of the junction between the N-type and P-type semiconductor material** and the behavior of this junction when an electric field is applied to it (e.g. from a voltage source across the diode).  \n",
    "\n",
    "The circuit to build is depicted below:\n",
    "\n",
    "<img src=\"Diode circuit2.png\">\n",
    "\n",
    "### Explanation of circuit symbols and operation\n",
    "\n",
    "|Symbol | Explanation |\n",
    "|-------|-------------|\n",
    "|<img src=\"Batt_symbol.png\">|  A symbol for a battery.  The longer line indicates the positive terminal and is often labeled with the voltage.     |\n",
    "|<img src=\"GND_symbol.png\">|  A symbol for \"Ground\", the common return point for current in the circuit.  This is the 0 Volt node in the circuit.  |\n",
    "|<img src=\"R_symbol.png\">|   A symbol for a resistor. Usually labeled with the resistance in $\\Omega$.     |\n",
    "|<img src=\"Diode_symbol.png\">| A symbol for a diode.  Current flows across the diode in the direction of its arrow.  It will not flow the other way.     |\n",
    "\n",
    "\n",
    "### A comment on Ground or \"Common\"\n",
    "\n",
    "Scientists and engineers typically omit drawing wires for the 0 voltage point in the circuit, the place to which all current returns to the 0 Volt side of the power supply.  If it will help you can mentally connect all of the Ground (GND) symbols together with a wire,  but in practice an actual wire is rarely used to create a ground, and it is bad practice to do so except when making prototypes on a boardboard where no other options exist.   Since this is the place to which all current flow in the circuit will return, and because it is at 0 volts, all ground points of a circuit are typically connected to the metal chassis (housing) of the circuit, or to a thick plane of copper on the back side of a printed circuit board.  \n",
    "\n",
    "The term \"ground\" comes from the fact that when wiring buildings, the third prong (ground terminal) of an electrical outlet is in fact connected to the Earth using a long metal pole driven down near a building's foundation.  This ground terminal is in fact connected to the metal enclosures of electrical appliances (like toasters and ovens), and acts as a safety measure because any faults in a circuit will not be able to harm people, as leaking current would be conducted down from the appliance's housing to the Earth (instead of through the user's body).  \n",
    "\n",
    "In small electronic devices, this kind of grounding is rarely done, since voltages are low, typically between 1 and 10 volts.  However if you ever have reason to work with high voltages, you must (1) go through proper training to be able to do so safely and (2) be sure to actually *Earth ground* the metal enclosure housing your circuitry!  \n",
    "\n",
    "**In this class**, when *you* build circuits, you can simply use a breadboard wire to connect all Ground points back to the negative terminal (the 0V terminal, in fact) of the battery.  In the case of a circuit breadboard there is no other option.  \n"
   ]
  },
  {
   "cell_type": "markdown",
   "metadata": {},
   "source": [
    "# Diode behavior\n",
    "\n",
    "The behavior of a diode is one of the first steps in learning semiconductor physics, and there is some thermal physics involved too.  When semiconductors are placed together, the junction between them experiences a **thermal voltage** difference $V_T$.  This is equal to:\n",
    "\n",
    "$$V_T = n \\frac{kT}{q_e}$$\n",
    "\n",
    "Here, $q_e$ is the electron charge and the term $\\frac{kT}{q_e}$ equals about 26 mV, 0.026 Volts.  The coefficient $n$ is a \"non ideality\" coefficient, often called the \"emmission coefficient\", and is usually between 1 and 2.  \n",
    "\n",
    "If  $V_d$ is the voltage across the diode, and $I_d$ is the current through it, the **Shockley diode equation** models its behavior as:\n",
    "\n",
    "$$ I_d = I_s \\left[ \\,\\text{exp}\\left(\\frac{V_d}{nV_T}\\right) -1 \\right] $$\n",
    "\n",
    "Where I_s is a tiny current called the \"reverse saturation current\" and is caused by the diffusion of charge carriers across the semiconductor junction from N-type to P-type and vice versa.\n",
    "\n"
   ]
  },
  {
   "cell_type": "markdown",
   "metadata": {},
   "source": [
    "# For today!\n",
    "\n",
    "- Continue your lab notebook from last time; but add a new markdown cell with a heading to begin a new entry for today with your name, date and teammates.\n",
    "- Measure the I vs V data for the circuit above.  As usual note your procedure, observations, thoughts, etc.  \n",
    "- As usual include a photo of your setup.\n",
    "- Plot your I vs V data and come up with a fit for the data.\n",
    "- See if you can fit the Shockley diode model to your data!  The free parameters are $I_s$ and $n$, but keep in mind what might constitute reasonable values for them.\n",
    "- As usual, your plots need error bars and your fits need uncertainty.\n",
    "\n",
    "\n",
    "Remember an error bar plot can be done using  `plot.errorbar(xdata, ydata, yerr=<uncertainty>)`  where uncertainty can be either a single value or an array with point-by point uncertainty  (its size must be equal to the number of data points."
   ]
  },
  {
   "cell_type": "code",
   "execution_count": null,
   "metadata": {},
   "outputs": [],
   "source": []
  },
  {
   "cell_type": "code",
   "execution_count": null,
   "metadata": {},
   "outputs": [],
   "source": []
  },
  {
   "cell_type": "markdown",
   "metadata": {},
   "source": [
    "### Reminder: Inserting a circuit diagram into a Markdown cell\n",
    "\n",
    "1. Upload your circuit diagram image and make sure it's in the same folder as your Jupyter notebook or Markdown (.md) document.\n",
    "1. Use  `<img src='circuit.png>`  to insert it. "
   ]
  },
  {
   "cell_type": "code",
   "execution_count": null,
   "metadata": {},
   "outputs": [],
   "source": []
  }
 ],
 "metadata": {
  "kernelspec": {
   "display_name": "Python 3",
   "language": "python",
   "name": "python3"
  },
  "language_info": {
   "codemirror_mode": {
    "name": "ipython",
    "version": 3
   },
   "file_extension": ".py",
   "mimetype": "text/x-python",
   "name": "python",
   "nbconvert_exporter": "python",
   "pygments_lexer": "ipython3",
   "version": "3.7.4"
  }
 },
 "nbformat": 4,
 "nbformat_minor": 4
}
