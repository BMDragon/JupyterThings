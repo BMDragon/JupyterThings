{
 "cells": [
  {
   "cell_type": "code",
   "execution_count": 1,
   "metadata": {},
   "outputs": [],
   "source": [
    "from pyadic import PAdic, ModP\n",
    "from fractions import Fraction as Q\n",
    "from pyadic.finite_field import rationalise"
   ]
  },
  {
   "attachments": {},
   "cell_type": "markdown",
   "metadata": {},
   "source": [
    "### Q(a, b)\n",
    "This is the representation of a fraction a/b\n",
    "\n",
    "### PAdic(fraction, base, digits)\n",
    "Converts a fraction into PAdic number\n",
    "\n",
    "### ModP(fraction, p)\n",
    "Converts a number into its representation (mod p)\n",
    "\n",
    "### rationalise(ModP or PAdic)\n",
    "Converts a ModP or PAdic number into a Fraction object"
   ]
  },
  {
   "cell_type": "code",
   "execution_count": 2,
   "metadata": {},
   "outputs": [
    {
     "data": {
      "text/plain": [
       "3*5 + 1*5^2 + 4*5^3 + 3*5^4 + 3*5^5 + 4*5^6 + 1*5^7 + 4*5^8 + 1*5^9 + 1*5^10 + 2*5^11 + 3*5^13 + 2*5^15 + 3*5^16 + 1*5^18 + 4*5^19 + 1*5^20 + O(5^21)"
      ]
     },
     "execution_count": 2,
     "metadata": {},
     "output_type": "execute_result"
    }
   ],
   "source": [
    "PAdic(Q(1/5), 5, 20)*5"
   ]
  },
  {
   "cell_type": "code",
   "execution_count": null,
   "metadata": {},
   "outputs": [],
   "source": []
  }
 ],
 "metadata": {
  "kernelspec": {
   "display_name": "Python 3",
   "language": "python",
   "name": "python3"
  },
  "language_info": {
   "codemirror_mode": {
    "name": "ipython",
    "version": 3
   },
   "file_extension": ".py",
   "mimetype": "text/x-python",
   "name": "python",
   "nbconvert_exporter": "python",
   "pygments_lexer": "ipython3",
   "version": "3.8.10"
  }
 },
 "nbformat": 4,
 "nbformat_minor": 2
}
