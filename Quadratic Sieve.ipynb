{
 "cells": [
  {
   "cell_type": "code",
   "execution_count": 1,
   "metadata": {},
   "outputs": [],
   "source": [
    "import math\n",
    "import numpy as np"
   ]
  },
  {
   "cell_type": "code",
   "execution_count": null,
   "metadata": {},
   "outputs": [],
   "source": [
    "def getB(n):\n",
    "    L = np.exp(np.sqrt(np.log(n)*np.log(np.log(n))))\n",
    "    return math.ceil(L**(1/np.sqrt(2)))"
   ]
  },
  {
   "cell_type": "code",
   "execution_count": 12,
   "metadata": {},
   "outputs": [],
   "source": [
    "def polynomial(a, n):\n",
    "    return a**2 - n\n",
    "    \n",
    "def bSmooth(b, n, factorBase):\n",
    "    a0 = math.ceil(np.sqrt(n))\n",
    "    ret = {}\n",
    "    while len(ret) < b:\n",
    "        val = polynomial(a0, n)\n",
    "        retVal = polynomial(a0, n)\n",
    "        factorization = {}\n",
    "        for p in factorBase:\n",
    "            exponent = 0\n",
    "            while val % p == 0:\n",
    "                exponent += 1\n",
    "                val /= p\n",
    "            if exponent > 0:\n",
    "                factorization[p] = exponent\n",
    "            if val == 1:\n",
    "                break\n",
    "        if val == 1:\n",
    "            ret[retVal] = factorization\n",
    "        a0 += 1\n",
    "    return ret"
   ]
  },
  {
   "cell_type": "code",
   "execution_count": 10,
   "metadata": {},
   "outputs": [],
   "source": [
    "def getFactorBase(b, n):\n",
    "    # First get all primes less than or equal to b\n",
    "    seive = np.array([True]*b)\n",
    "    seive[0] = False\n",
    "    for i in range(2, math.ceil(b)):\n",
    "        j = 2*i\n",
    "        while j <= b:\n",
    "            seive[j-1] = False\n",
    "            j += i\n",
    "    \n",
    "    primes = np.array([])\n",
    "    for i in range(len(seive)):\n",
    "        if seive[i]:\n",
    "            primes = np.append(primes, i+1)\n",
    "            \n",
    "    # Next check if n is a quadratic residue for odd primes\n",
    "    factorBase = np.array([2])\n",
    "    for i in range(1, len(primes)):\n",
    "        val = n**((primes[i]-1)/2) % primes[i]\n",
    "        if val == 1:\n",
    "            factorBase = np.append(factorBase, primes[i])\n",
    "    return factorBase"
   ]
  },
  {
   "cell_type": "code",
   "execution_count": null,
   "metadata": {},
   "outputs": [],
   "source": [
    "bSmooth(30, 91, getFactorBase(30, 91))"
   ]
  },
  {
   "cell_type": "code",
   "execution_count": 5,
   "metadata": {},
   "outputs": [],
   "source": [
    "def check_smoothness(start, batch_size, n, roots):\n",
    "    \"\"\"\n",
    "        Finds the B-smooth elements of the sequence (x^2 - n) for each x\n",
    "        from 'start' to 'start + batch_size.' \n",
    "        \n",
    "        It returns a dict with the corresponding x's as the key and the\n",
    "        their prime factorization as the value.\n",
    "    \"\"\"\n",
    "    # Tracks which (x^2 - n) values in the given range can be factored by primes in B\n",
    "    # If result == 1 at the end, the value has been successfully factored\n",
    "    result = [int((start + i)**2) - n for i in range(batch_size)]\n",
    "    # Tracks the primes used to factor the (x^2 - n) values\n",
    "    \n",
    "    factorization = [{} for _ in range(batch_size)]\n",
    "    \n",
    "    \n",
    "    for i in range(result[0] % 2, batch_size, 2):\n",
    "        num = 0\n",
    "        while result[i] % 2 == 0:\n",
    "            result[i] = result[i] // 2\n",
    "            num += 1\n",
    "        factorization[i][2] = num\n",
    "    \n",
    "    for p in roots:\n",
    "        if roots[p] != None:\n",
    "            start_mod_p = start % p\n",
    "            \n",
    "            start_r0 = 0\n",
    "            while (start_mod_p + start_r0) % p != roots[p][0]:\n",
    "                start_r0 += 1\n",
    "            start_r1 = 0\n",
    "            while (start_mod_p + start_r1) % p != roots[p][1]:\n",
    "                start_r1 += 1\n",
    "            for i in range(start_r0, batch_size, p):\n",
    "                num = 0\n",
    "                while result[i] % p == 0:\n",
    "                    result[i] = result[i] // p\n",
    "                    num += 1\n",
    "                factorization[i][p] = num\n",
    "            \n",
    "            for i in range(start_r1, batch_size, p):\n",
    "                num = 0\n",
    "                while result[i] % p == 0:\n",
    "                    result[i] = result[i] // p\n",
    "                    num += 1\n",
    "                if p not in factorization[i]:\n",
    "                    factorization[i][p] = 0\n",
    "                factorization[i][p] += num\n",
    "        '''\n",
    "        # Unsure if this is needed, does brute force calculations for all primes that don't have roots\n",
    "        else:\n",
    "            for i in range(len(result)):\n",
    "                while result[i] % p == 0:\n",
    "                    result[i] = result[i] // p\n",
    "        '''\n",
    "        \n",
    "\n",
    "    smooth_nums = {}\n",
    "    for i in range(batch_size):\n",
    "        if result[i] == 1:\n",
    "            smooth_nums[start + i] = factorization[i]\n",
    "            \n",
    "    \n",
    "    return smooth_nums"
   ]
  },
  {
   "cell_type": "code",
   "execution_count": 6,
   "metadata": {},
   "outputs": [],
   "source": [
    "def build_matrix(factorizations, B_primes):\n",
    "    \"\"\"\n",
    "        Builds a matrix in the necessary form for Gaussian elimination.\n",
    "\n",
    "        Returns the matrix and labels, which are the x values that correspond\n",
    "        to each row of the matrix.\n",
    "\n",
    "        NOTE: we may need to change this to use numpy arrays depending on our\n",
    "        method for Gaussian elimination.\n",
    "    \"\"\"\n",
    "    # Builds a map with primes as keys and their index as the value for easy lookup later\n",
    "    sorted_primes = sorted(list(primes.keys()))\n",
    "    primes_to_index = {2: 0}\n",
    "    for i in range(len(sorted_primes)):\n",
    "        primes_to_index[sorted_primes[i]] = i+1\n",
    "    \n",
    "    labels = []\n",
    "    matrix = []\n",
    "    for x in factorizations:\n",
    "        if len(matrix) == len(primes_to_index):\n",
    "            break\n",
    "        f_list = [0 for _ in range(len(primes_to_index))]\n",
    "        for p in factorizations[x]:\n",
    "            f_list[primes_to_index[p]] = factorizations[x][p]\n",
    "        matrix.append(f_list)\n",
    "        # Might want to change labels to (x^2 - n) values later\n",
    "        labels.append(x)\n",
    "        \n",
    "    return matrix, labels"
   ]
  },
  {
   "cell_type": "code",
   "execution_count": null,
   "metadata": {},
   "outputs": [
    {
     "name": "stdout",
     "output_type": "stream",
     "text": [
      "3958\n"
     ]
    }
   ],
   "source": [
    "### TEST FIELD ###\n",
    "\n",
    "n = 16921456439215439701\n",
    "\n",
    "# Choosing B based on the article, can be changed\n",
    "# Seems like C can be any value [0.5, 1]\n",
    "C = 0.5\n",
    "X = 2*n**(0.75)\n",
    "B = math.ceil(np.exp(C*math.sqrt(math.log2(X)*math.log2(math.log2(X)))))\n",
    "print(B)\n",
    "\n",
    "primes = get_b_primes(B, n)\n",
    "smooth = check_smoothness(math.ceil(math.sqrt(n)), math.ceil(math.pow(n, 0.4)), n, primes)\n",
    "print(smooth)"
   ]
  },
  {
   "cell_type": "code",
   "execution_count": null,
   "metadata": {},
   "outputs": [],
   "source": [
    "matrix, labels = build_matrix(smooth, primes)\n",
    "matrix = Matrix(np.mod(np.transpose(matrix), 2))"
   ]
  },
  {
   "cell_type": "code",
   "execution_count": null,
   "metadata": {},
   "outputs": [],
   "source": [
    "kernel = np.transpose(np.transpose(np.array(matrix.nullspace()).astype(np.float64))[0])*10\n",
    "print(kernel)"
   ]
  },
  {
   "cell_type": "code",
   "execution_count": null,
   "metadata": {},
   "outputs": [],
   "source": [
    "kernDex = np.where(kernel > 0.5)"
   ]
  },
  {
   "cell_type": "code",
   "execution_count": null,
   "metadata": {},
   "outputs": [],
   "source": [
    "print(kernel[kernDex[0][0]])"
   ]
  }
 ],
 "metadata": {
  "kernelspec": {
   "display_name": "Python 3",
   "language": "python",
   "name": "python3"
  },
  "language_info": {
   "codemirror_mode": {
    "name": "ipython",
    "version": 3
   },
   "file_extension": ".py",
   "mimetype": "text/x-python",
   "name": "python",
   "nbconvert_exporter": "python",
   "pygments_lexer": "ipython3",
   "version": "3.7.4"
  }
 },
 "nbformat": 4,
 "nbformat_minor": 2
}
