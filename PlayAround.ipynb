{
 "cells": [
  {
   "cell_type": "code",
   "execution_count": 21,
   "metadata": {},
   "outputs": [],
   "source": [
    "import numpy as np"
   ]
  },
  {
   "cell_type": "code",
   "execution_count": 54,
   "metadata": {},
   "outputs": [],
   "source": [
    "paramMins = np.array([0, 0.5, 0.5])\n",
    "paramMaxs = np.array([0.5, 1.2, 2.0])\n",
    "div = 2\n",
    "param_ranges = np.zeros((len(paramMins), div))\n",
    "for qq in range(len(paramMins)):\n",
    "    param_ranges[qq] = np.arange(paramMins[qq], paramMaxs[qq], (paramMaxs[qq] - paramMins[qq])/div)\n",
    "\n",
    "meshes = np.meshgrid(*param_ranges, sparse=False, indexing='ij')"
   ]
  },
  {
   "cell_type": "code",
   "execution_count": 55,
   "metadata": {},
   "outputs": [
    {
     "data": {
      "text/plain": [
       "[(array([[0., 0.],\n",
       "         [0., 0.]]), array([[0.5 , 0.5 ],\n",
       "         [0.85, 0.85]]), array([[0.5 , 1.25],\n",
       "         [0.5 , 1.25]])), (array([[0.25, 0.25],\n",
       "         [0.25, 0.25]]), array([[0.5 , 0.5 ],\n",
       "         [0.85, 0.85]]), array([[0.5 , 1.25],\n",
       "         [0.5 , 1.25]]))]"
      ]
     },
     "execution_count": 55,
     "metadata": {},
     "output_type": "execute_result"
    }
   ],
   "source": [
    "lists = [point for point in zip(*meshes)]\n",
    "lists"
   ]
  },
  {
   "cell_type": "code",
   "execution_count": 56,
   "metadata": {},
   "outputs": [],
   "source": [
    "param1_range = np.arange(paramMins[0], paramMaxs[0], (paramMaxs[0] - paramMins[0]) / div)\n",
    "param2_range = np.arange(paramMins[1], paramMaxs[1], (paramMaxs[1] - paramMins[1]) / div)\n",
    "param3_range = np.arange(paramMins[2], paramMaxs[2], (paramMaxs[2] - paramMins[2]) / div)\n",
    "param1_mesh, param2_mesh, param3_mesh = np.meshgrid(param1_range, param2_range, param3_range, sparse=False, indexing='ij')"
   ]
  },
  {
   "cell_type": "code",
   "execution_count": 57,
   "metadata": {},
   "outputs": [
    {
     "data": {
      "text/plain": [
       "[(array([[0., 0.],\n",
       "         [0., 0.]]), array([[0.5 , 0.5 ],\n",
       "         [0.85, 0.85]])), (array([[0.25, 0.25],\n",
       "         [0.25, 0.25]]), array([[0.5 , 0.5 ],\n",
       "         [0.85, 0.85]]))]"
      ]
     },
     "execution_count": 57,
     "metadata": {},
     "output_type": "execute_result"
    }
   ],
   "source": [
    "list2 = [(param1, param2) for (param1, param2) in zip(param1_mesh, param2_mesh)]\n",
    "list2"
   ]
  },
  {
   "cell_type": "code",
   "execution_count": 58,
   "metadata": {},
   "outputs": [
    {
     "name": "stdout",
     "output_type": "stream",
     "text": [
      "(array([[0., 0.],\n",
      "       [0., 0.]]), array([[0.5 , 0.5 ],\n",
      "       [0.85, 0.85]]), array([[0.5 , 1.25],\n",
      "       [0.5 , 1.25]]))\n"
     ]
    }
   ],
   "source": [
    "for pointed in zip(*meshes):\n",
    "    print(pointed)\n",
    "    break;"
   ]
  },
  {
   "cell_type": "code",
   "execution_count": 48,
   "metadata": {},
   "outputs": [
    {
     "name": "stdout",
     "output_type": "stream",
     "text": [
      "(array([[[1, 1],\n",
      "        [2, 2]],\n",
      "\n",
      "       [[1, 1],\n",
      "        [2, 2]]]),)\n",
      "(array([[[3, 3],\n",
      "        [3, 3]],\n",
      "\n",
      "       [[4, 4],\n",
      "        [4, 4]]]),)\n",
      "(array([[[5, 6],\n",
      "        [5, 6]],\n",
      "\n",
      "       [[5, 6],\n",
      "        [5, 6]]]),)\n"
     ]
    }
   ],
   "source": [
    "mm = np.meshgrid([1,2], [3, 4], [5,6], indexing='xy')\n",
    "for x in zip(mm):\n",
    "    print(x)"
   ]
  },
  {
   "cell_type": "code",
   "execution_count": null,
   "metadata": {},
   "outputs": [],
   "source": []
  }
 ],
 "metadata": {
  "kernelspec": {
   "display_name": "Python 3",
   "language": "python",
   "name": "python3"
  },
  "language_info": {
   "codemirror_mode": {
    "name": "ipython",
    "version": 3
   },
   "file_extension": ".py",
   "mimetype": "text/x-python",
   "name": "python",
   "nbconvert_exporter": "python",
   "pygments_lexer": "ipython3",
   "version": "3.7.4"
  }
 },
 "nbformat": 4,
 "nbformat_minor": 2
}
