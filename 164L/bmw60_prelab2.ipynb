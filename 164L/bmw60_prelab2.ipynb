{
 "cells": [
  {
   "cell_type": "markdown",
   "metadata": {},
   "source": [
    "# Pre-lab 2\n",
    "## Due Friday by the start of lab\n",
    "\n",
    "### Submission instructions:\n",
    "\n",
    "1.  Change the title of this document so that your netID is at the beginning, like this:  \"netID_prelab_2_v2018\"\n",
    "2.  Save (\"checkpoint\") the document so this title takes effect.\n",
    "3.  Do the pre-lab and type all your code/answers in this document.\n",
    "4.  Submit in the \"Assignments\" tool in Sakai under \"Pre-lab 2 Submission\".\n",
    "\n",
    "***\n",
    "\n",
    "### Required reading 1\n",
    "\n",
    "* Read  <a href=\"https://labs.phy.duke.edu/images/a/a9/Taylor_uncertainty_excerpt_2.pdf\">this excerpt</a> from _Introduction to Error Analysis_, by Taylor\n",
    "\n",
    "### Required reading 2\n",
    "\n",
    "* Read the included PDF excerpt, ' Arrays_and_loops_prelab2_reading_F2019.pdf', which is posted in the Prelabs folder.\n",
    "\n",
    "* Do the exercises at the end, and put them in new cells in this Jupyter Notebook."
   ]
  },
  {
   "cell_type": "markdown",
   "metadata": {},
   "source": [
    "### Reading No. 2 exercises"
   ]
  },
  {
   "cell_type": "markdown",
   "metadata": {},
   "source": [
    "#### Exercise 1\n",
    "The loop will execute until myflag is true because as soon as myflag becomes true, !myflag evaluates to false. Thus, the while loop will see the false and not run the inside statement."
   ]
  },
  {
   "cell_type": "code",
   "execution_count": 10,
   "metadata": {},
   "outputs": [
    {
     "name": "stdout",
     "output_type": "stream",
     "text": [
      "[1, 1, 2, 3, 5, 8, 13, 21, 34, 55, 89, 144, 233, 377, 610, 987, 1597, 2584, 4181, 6765, 10946, 17711, 28657, 46368, 75025]\n"
     ]
    }
   ],
   "source": [
    "# Exercise 2\n",
    "n = 25 # set value to however many Fibonacci numbers you want\n",
    "myfibs = [0]*n\n",
    "myfibs[0] = 1\n",
    "myfibs[1] = 1\n",
    "for i in range(2,n):\n",
    "    myfibs[i] = myfibs[i-1] + myfibs[i-2]\n",
    "print(myfibs)"
   ]
  },
  {
   "cell_type": "markdown",
   "metadata": {},
   "source": [
    "### Array Exercise\n",
    "\n",
    "Use the code cells below (you may insert as many as you need below these) do the following:  First, you should `import numpy`  and `import matplotlib.pyplot as plots`.  Execute it and move on to the next cell. We have defined an array of numbers for you.  Use a for-loop (and refer to <a href=\"https://www.w3schools.com/python/python_for_loops.asp\">any resources</a> you may need about this Python statement) to calculate the standard deviation of the array.   You may *not* use native NumPy built-in functions."
   ]
  },
  {
   "cell_type": "code",
   "execution_count": 1,
   "metadata": {},
   "outputs": [],
   "source": [
    "#Import statement here\n",
    "import numpy\n",
    "import matplotlib.pyplot as plots"
   ]
  },
  {
   "cell_type": "code",
   "execution_count": 8,
   "metadata": {},
   "outputs": [
    {
     "name": "stdout",
     "output_type": "stream",
     "text": [
      "Standard Deviation: 34.927296832843886\n"
     ]
    }
   ],
   "source": [
    "#The array you should use\n",
    "data1 = numpy.array([100.0, 50.0, 25.0, 12.5, 6.25, 3.125, 3.0, 6.0,13.0, 25.0, 100.0])\n",
    "\n",
    "#Use a for-loop to calculate and *return* the standard deviation of the array.\n",
    "sum = 0\n",
    "for i in range(0,11):\n",
    "    sum += data1[i]\n",
    "mean = sum/11\n",
    "calc = 0\n",
    "for i in range(0,11):\n",
    "    calc += (mean - data1[i])**2\n",
    "var = calc/11\n",
    "stDev = var**0.5\n",
    "print(\"Standard Deviation:\",stDev)"
   ]
  },
  {
   "cell_type": "markdown",
   "metadata": {},
   "source": [
    "***\n",
    "\n",
    "### Required reading:\n",
    "\n",
    "### '*NumPy arrays have super-powers*'\n",
    "\n",
    "Numpy arrays are special because they have certain \"super-powers\", special abilities or commands that they are able to do. These special commands do calculations on the data in the array and then yield a result for you. For example, if you have a large array of values, you can write,\n",
    "\n",
    "diffs = my_array - 3.1415\n",
    "\n",
    "...and Python will automatically calculate for you a new array containing the difference between each data value and 3.1415. You do not have to create a for-loop and sequentially do the calculation for each number contained in the array: NumPy is smart enough to know what you want to do.\n",
    "\n",
    "Likewise, as long as you have two arrays of the same size, you can do fancy things like this:\n",
    "\n",
    "`new_calculated_result_array = my_array1 * my_array2 / 4.0`\n",
    "\n",
    "More examples are below:\n",
    "\n",
    "#### Dot product of two big vectors (both arrays)\n",
    "\n",
    "`dot_product_value = my_array1.dot(my_array2)`\n",
    "\n",
    "#### Double asterisks denote \"to the power of\" operation.  **2 means squared.\n",
    "\n",
    "`my_squares = my_array1 ** 2`\n",
    "\n",
    "Faster to use NumPy.  For example, cubes:\n",
    "\n",
    "`my_cubes = numpy.power(my_array1, 3.0)`\n",
    "\n",
    "Numpy can take the elements of one array to the power of elements in another:\n",
    "\n",
    "`my_powers = numpy.power(my_array1, my_powers_array)`\n",
    "\n",
    "#### Calculating a ton of hypoteneuses for thousands of right triangles\n",
    "\n",
    "`my_hypoteneuses = numpy.sqrt( my_array1**2  + my_array2**2 )`\n",
    "\n",
    "#### What if we want a cosine function of our values?\n",
    "\n",
    "`my_function_values = numpy.cos(my_array1)`\n",
    "\n",
    "\n",
    "### Especially useful commands for today:\n",
    "\n",
    "#### Max value in the array.\n",
    "`numpy.max( my_array )`\n",
    "\n",
    "#### Min value in the array.\n",
    "`numpy.min( my_array )`\n",
    "\n",
    "#### Mean value of all values in the array\n",
    "`numpy.mean( my_array )`\n",
    "\n",
    "#### Standard deviation of all values in the array!!!\n",
    "`numpy.std( my_array )`"
   ]
  },
  {
   "cell_type": "markdown",
   "metadata": {},
   "source": [
    "***\n",
    "\n",
    "### Exercise\n",
    "\n",
    "The following instructions contain text followed by empty code-cells.  Your task will be to fill in the requisite code and execute each cell as required.\n"
   ]
  },
  {
   "cell_type": "markdown",
   "metadata": {},
   "source": [
    "#### First:  If necessary, review the Numpy Array Tutorial\n",
    "\n",
    "The NumPy Array Tutorial that you did in the classroom is available in Sakai under **Resources**.  You can open this up to review the information it contains about NumPy arrays and how to use them.\n",
    "\n",
    "#### Now, let's create an array containing computer-generated random data!\n",
    "\n",
    "Execute the command below.  numpy.random.randn(N)  is a function that creates an array of N random data points.  N is the input to this function, and the array is the output.  If you don't store the output in a variable, all of the data will be spit out onto your screen!"
   ]
  },
  {
   "cell_type": "code",
   "execution_count": 10,
   "metadata": {},
   "outputs": [],
   "source": [
    "simdata = numpy.random.randn(1000)"
   ]
  },
  {
   "cell_type": "markdown",
   "metadata": {},
   "source": [
    "* **Question** What is simdata, what does it contain, and how many random numbers did we just generate?"
   ]
  },
  {
   "cell_type": "markdown",
   "metadata": {},
   "source": [
    "simdata is an array of random data points. We just generated 1000 of them."
   ]
  },
  {
   "cell_type": "markdown",
   "metadata": {},
   "source": [
    "#### 4. Now you should have enough information to calculate the following in the cells below (one calculation per cell):\n",
    "\n",
    "1. The standard deviation of the random samples you created.\n",
    "\n",
    "2.  The mean of the random samples you created"
   ]
  },
  {
   "cell_type": "code",
   "execution_count": 13,
   "metadata": {},
   "outputs": [
    {
     "name": "stdout",
     "output_type": "stream",
     "text": [
      "Standard Deviation: 1.0232967892573523\n"
     ]
    }
   ],
   "source": [
    "print(\"Standard Deviation:\",numpy.std(simdata))"
   ]
  },
  {
   "cell_type": "code",
   "execution_count": 14,
   "metadata": {},
   "outputs": [
    {
     "name": "stdout",
     "output_type": "stream",
     "text": [
      "Mean: 0.005517765865247208\n"
     ]
    }
   ],
   "source": [
    "print(\"Mean:\",numpy.mean(simdata))"
   ]
  },
  {
   "cell_type": "markdown",
   "metadata": {},
   "source": [
    "#### 5.  Numerical histogram data\n",
    "\n",
    "Execute the command below.  **Now in the Markdown cell underneath, write your answer to the following inquiry:**  Think about the output it just created. **This is NOT a plot!  It is instead a table of numerical output!** What is the form of this output?  Hazard your best educated guess about what each \"part\" of the output means."
   ]
  },
  {
   "cell_type": "code",
   "execution_count": 16,
   "metadata": {},
   "outputs": [
    {
     "data": {
      "text/plain": [
       "(array([  1,   3,  40,  90, 176, 295, 208, 133,  45,   9], dtype=int64),\n",
       " array([-3.93221213, -3.2365609 , -2.54090966, -1.84525842, -1.14960718,\n",
       "        -0.45395594,  0.24169529,  0.93734653,  1.63299777,  2.32864901,\n",
       "         3.02430025]))"
      ]
     },
     "execution_count": 16,
     "metadata": {},
     "output_type": "execute_result"
    }
   ],
   "source": [
    "numpy.histogram(simdata)"
   ]
  },
  {
   "cell_type": "markdown",
   "metadata": {},
   "source": [
    "This is describing a histogram graph. The first array in the output is the counts for each bar in the histogram. The next array is the bounds for each bar (this particular graph has 10 bins). The datatype of the counts are all 64-bit integers."
   ]
  },
  {
   "cell_type": "markdown",
   "metadata": {},
   "source": [
    "#### 6. Histogram plot\n",
    "\n",
    "To actually **PLOT** a histogram (rather than just show numerical data that represents one), use the following command, which uses a *matplotlib* function.  Hopefully you have already run `import matplotlib.pyplot as plots`.\n",
    "\n",
    "`plots.hist(mydata, bins=x)`  where you fill in an integer number of bins for the histogram in place of x  (if x actually happens to be variable that stores an integer, the exact command as shown will work just fine!) You may need to also run `plots.show()` to display the plot.  \n",
    "\n",
    "\n",
    "A histogram is a balancing act.  Too many bins, and the count in each bin will not be useful or worthwhile.  Too few bins, and you won't get enough resolution as to the distribution of your data.  Experiment with different numbers of bins until you get a histogram that you feel might be a balance.  (Think:  what average count will be in each bin if you divide 1000 into 500 bins?  50 bins?  5?)\n",
    "\n",
    "If your graphs appear within this document, the version you hand in should contain just one final histogram plot that you produced.  If your graphs pop up in a window behind your browser (or elsewhere on your desktop) then use the \"file\" icon on the graph window to save your graph as an image file.  You should submit the image file together with your .ipynb Jupyter notebook from this pre-lab. "
   ]
  },
  {
   "cell_type": "code",
   "execution_count": 34,
   "metadata": {},
   "outputs": [
    {
     "data": {
      "image/png": "[encoded data removed]",
      "text/plain": [
       "<Figure size 432x288 with 1 Axes>"
      ]
     },
     "metadata": {
      "needs_background": "light"
     },
     "output_type": "display_data"
    }
   ],
   "source": [
    "plots.hist(simdata, bins=25)\n",
    "plots.show()"
   ]
  },
  {
   "cell_type": "code",
   "execution_count": null,
   "metadata": {
    "collapsed": true
   },
   "outputs": [],
   "source": []
  },
  {
   "cell_type": "markdown",
   "metadata": {},
   "source": [
    "### Save this notebook and submit to Sakai!"
   ]
  },
  {
   "cell_type": "code",
   "execution_count": null,
   "metadata": {
    "collapsed": true
   },
   "outputs": [],
   "source": []
  }
 ],
 "metadata": {
  "kernelspec": {
   "display_name": "Python 3",
   "language": "python",
   "name": "python3"
  },
  "language_info": {
   "codemirror_mode": {
    "name": "ipython",
    "version": 3
   },
   "file_extension": ".py",
   "mimetype": "text/x-python",
   "name": "python",
   "nbconvert_exporter": "python",
   "pygments_lexer": "ipython3",
   "version": "3.7.4"
  }
 },
 "nbformat": 4,
 "nbformat_minor": 1
}
