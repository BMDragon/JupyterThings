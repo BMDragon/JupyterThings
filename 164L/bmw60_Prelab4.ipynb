{
 "cells": [
  {
   "cell_type": "markdown",
   "metadata": {},
   "source": [
    "# Linear Least Squares Curve Fitting#\n",
    "\n",
    "\n",
    "## Required reading 1 & 2 (follow the links)\n",
    "\n",
    "For this prelab you will learn about linear least-squares fitting, then do an example curve-fit using the method. \n",
    "\n",
    "**First** Review how Python functions work.  [This tutorial link](https://www.w3schools.com/python/python_functions.asp) has a straightforward set of examples.  Read this down to the section on \"Keyword Arguments\" (we will not commonly use those, but they can be handy.)\n",
    "\n",
    "**Next** do the following required reading [found by clicking here](https://labs.phy.duke.edu/index.php/Labs:161L_Week_5_Prelab_v2).  \n",
    "\n",
    "\n",
    "\n",
    "\n",
    "## Activity.   Write code to do your first fit with an example dataset\n",
    "\n",
    "The final linear least-squares fitting equations are found [in section 2.3 of your pre-lab reading](https://labs.phy.duke.edu/index.php/Labs:161L_Week_5_Prelab_v2).  To complete this assignment, implement the method inside the provided function below in this notebook (the function is called \"llsquares\").  It should take two arrays as input for x data and y data, then return the fitted slope and y-intercept as a tuple (m, b).  \n",
    "\n",
    "You should have the example-data file \"llsquaresData1.csv\", which has been included in the zip file that contained this pre-lab (but it is also available in Sakai).  Make sure this file is in the same directory as this Jupyter notebook, since you will load and use this data to test your function.  \n",
    "\n",
    "To finish, in the last cell of this notebook some plotting has been provided to see how your fit looks compared to the data."
   ]
  },
  {
   "cell_type": "code",
   "execution_count": 1,
   "metadata": {},
   "outputs": [],
   "source": [
    "import numpy as np\n",
    "import matplotlib.pyplot as pl"
   ]
  },
  {
   "cell_type": "code",
   "execution_count": 2,
   "metadata": {},
   "outputs": [
    {
     "data": {
      "image/png": "[encoded data removed]",
      "text/plain": [
       "<Figure size 432x288 with 1 Axes>"
      ]
     },
     "metadata": {
      "needs_background": "light"
     },
     "output_type": "display_data"
    }
   ],
   "source": [
    "##  HERE IS HOW YOU LOAD UP A CSV FILE!  THE FILE IN QUESTION HAS TWO COLUMNS---\n",
    "##  ONE FOR THE INDEPENDENT VARIABLE AND ONE FOR THE DEPENDENT VARIABLE.\n",
    "\n",
    "#Load the test data from the file.  It must be in the same folder as this notebook.\n",
    "(xdata,ydata) = np.loadtxt(\"llsquaresData2.csv\",delimiter=',')\n",
    "\n",
    "#Let's plot the data set to see what it looks like!   \n",
    "pl.plot(xdata,ydata,'o',ms=1.75,label='Data')   #Plot the data!\n",
    "pl.show()\n",
    "pl.show()"
   ]
  },
  {
   "cell_type": "markdown",
   "metadata": {},
   "source": [
    "#### Fill in the code in the function below to actually do the fit.  \n",
    "\n",
    "* You may wish to review your coding skills & how to do calculations easily with Python arrays, from previous prelabs.\n",
    "\n",
    "* AFTER READING THE COMMENTS IN THE FUNCTION BELOW, ERASE THEM AND REPLACE with your OWN comments to EXPLAIN WHAT EACH BLOCK OF RELATED CODE DOES.  You don't need to comment every single line, but you should comment each set of related lines that has some particular purpose."
   ]
  },
  {
   "cell_type": "code",
   "execution_count": 3,
   "metadata": {},
   "outputs": [],
   "source": [
    "#define a function which will perform least linear squares given two arrays\n",
    "\n",
    "#Input: xd, the NumPy array storing values for the independent variable of the experimental data\n",
    "#       yd, the NumPy array storing values for the dependent variable of the experimental data.\n",
    "\n",
    "def llsquares(xd, yd):\n",
    "    avgX = np.mean(xd) #Mean of Xs\n",
    "    avgY = np.mean(yd) #Mean of Ys\n",
    "    sumTop = np.sum(np.multiply(xd-avgX,yd-avgY)) #Top of fraction in formula\n",
    "    sumBot = np.sum((xd-avgX)**2) #Bottom of fraction in formula\n",
    "    m = sumTop/sumBot #slope\n",
    "    b = avgY - m*avgX #Y-intercept\n",
    "    return (m,b) #returns slope and y-intercept"
   ]
  },
  {
   "cell_type": "markdown",
   "metadata": {},
   "source": [
    "#### Now you need to plot the model and the fit to see how they line up.\n",
    "## Below you will need to fill in some code to calculate points for the fitted line"
   ]
  },
  {
   "cell_type": "code",
   "execution_count": 4,
   "metadata": {},
   "outputs": [],
   "source": [
    "#The line below stores the tuple values returned by the fitting function into two variables\n",
    "#   REMEMBER IN A CELL ABOVE, WE LOADED UP A CSV FILE CONTAINING AN EXPERIMENTAL DATA SET.  \n",
    "#   THE INDEPENDENT VARIABLE VALUES WERE STORED AS 'xdata' AND THE DEPENDENT MEASURED\n",
    "#  VALUES WERE STORED AS 'ydata'.\n",
    "\n",
    "#Now simply call the function you defined.\n",
    "slope_model, yint_model = llsquares(xdata, ydata)\n",
    "\n",
    "#-- Now you should have the best-fit slope (slope_model) \n",
    "# and the  best-fit y intercept (yint_model)\n",
    "#-- Now you need to USE these variables to calculate and plot a FUNCTION\n",
    "# which gives you the y values of the fit line, given the x values (independent variable)\n",
    "# of the data set itself!\n",
    "# -- Remember that slope_model and  yint_model are floating point values \n",
    "# and xdata is a numpy array.\n",
    "\n",
    "#**** Fill in the rest of this line of code:\n",
    "ymodel = slope_model*xdata + yint_model\n"
   ]
  },
  {
   "cell_type": "markdown",
   "metadata": {},
   "source": [
    "### Now it is time to calculate the uncertainty in your fit parameters and \n",
    "### the statistically determined uncertainty in your data points.\n",
    "\n",
    "#### In the cells below, \n",
    "\n",
    "* Calculate the uncertainty $\\sigma_m$ and $\\sigma_b$ in the slope and intercept \n",
    "   (`slope_model` and `yint_model`)\n",
    "* Determine $\\sigma_y$, the statistically determined  uncertainty in the y data values.\n",
    "\n",
    "As described in your reading for this prelab, this is essentially a determination of the 'standard deviation of your data about the line of best fit'."
   ]
  },
  {
   "cell_type": "code",
   "execution_count": 6,
   "metadata": {},
   "outputs": [],
   "source": [
    "sigy = ((np.sum(ydata-ymodel)**2)/(len(ydata)-2))**0.5\n",
    "delta = len(xdata)*np.sum(xdata**2) - (np.sum(xdata))**2"
   ]
  },
  {
   "cell_type": "code",
   "execution_count": 8,
   "metadata": {},
   "outputs": [],
   "source": [
    "sigb = sigy*((np.sum(xdata**2)/delta)**0.5)"
   ]
  },
  {
   "cell_type": "code",
   "execution_count": 9,
   "metadata": {},
   "outputs": [],
   "source": [
    "sigm = sigy*((len(xdata)/delta)**0.5)"
   ]
  },
  {
   "cell_type": "markdown",
   "metadata": {},
   "source": [
    "### Now plot the result: the data and the fit line together with error bars\n",
    "\n",
    "In the code below, you should set the variable `sigma` equal to \n",
    "the calculated y uncertainty $\\sigma_y$ of the example data set.  \n",
    "\n",
    "We use an **errorbar** plot to show the uncertainties on the graph."
   ]
  },
  {
   "cell_type": "code",
   "execution_count": 10,
   "metadata": {},
   "outputs": [
    {
     "data": {
      "image/png": "[encoded data removed]",
      "text/plain": [
       "<Figure size 432x288 with 1 Axes>"
      ]
     },
     "metadata": {
      "needs_background": "light"
     },
     "output_type": "display_data"
    }
   ],
   "source": [
    "\n",
    "# ---- FILL IN THE RIGHT VALUE HERE AS EXPLAINED:\n",
    "sigma = sigy\n",
    "\n",
    "#Do the plotting:\n",
    "#\n",
    "#  THE FORMAT FOR AN ERROR BAR PLOT IS:\n",
    "#     errorbar(x, y, yerr=None, xerr=None, fmt='', capsize= <size>)    \n",
    "#  where fmt gives the data point style \n",
    "#       e.g.  'o', '+','.','o-','r-','g:', etc. are examples.\n",
    "#  capsize is the size of the horizontal ends of the error bars.  It can be omitted.\n",
    "\n",
    "#Plot the data!\n",
    "pl.errorbar(xdata,ydata,yerr = sigma, fmt='o', capsize=3, label='Data' )   \n",
    "\n",
    "#Plot the fit line you calculated, too.\n",
    "pl.plot(xdata,ymodel,label='Model')  \n",
    "\n",
    "#Show which curve is which\n",
    "pl.legend()   \n",
    "pl.show()     #Show the plot.\n",
    "\n",
    "#If performed correctly your model should match your \n",
    "# data as well as statistically possible given the noise level in the data."
   ]
  },
  {
   "cell_type": "markdown",
   "metadata": {
    "collapsed": true
   },
   "source": [
    "## Required Reading 3.  What is a weighted fit?\n",
    "\n",
    "\n",
    "A **weighted** fit takes into account the size of your error bars.  Intuitively speaking, it makes sense that data points with larger error bars should exert less influence on the line of best fit.  Data points with very small error bars should have proportionately more influence in the calculation of best fit.  \n",
    "\n",
    "Remember, for this prelab, our fit function will be a line:  $f(x_i) = m*x_i + b$.  As you should know from your previous reading, the *residual* is the vertical distance from the fit line to each actual data point $y_i$:\n",
    "\n",
    "$$ r_i = y_i - f(x_i) $$\n",
    "\n",
    "This way of defining the residuals assumes that each datapoint $y_i$ carries equal uncertainty!  \n",
    "\n",
    "If instead each datapoint has a different error bar then we need an array of $\\sigma_i$ values.  (Think:  \"the standard standard error in the mean for each measurement\"... or if your values were calculated fro the raw measurements, then think:  \"the propagated uncertainty of each calculated value\".) \n",
    "\n",
    "Then we must *weight* the residuals by the uncertainties so that data points of greater uncertainty exert less influence on the fit.  We can then define the *weighted* residuals in the following way (we will use the greek letter chi):\n",
    "\n",
    "$$ \\chi_i = \\frac{y_i - f(x_i) }{\\sigma_i}  $$\n",
    "\n",
    "We could reword this by defining the *weights* as:\n",
    "\n",
    "$$ W_i = \\frac{1}{\\sigma_i}$$ \n",
    "\n",
    "So our weighted residuals become:\n",
    "\n",
    "$$ \\chi_i = W_i\\cdot\\left(y_i - f(x_i)\\right)  $$\n",
    "\n",
    "\n",
    "Note that an *unweighted* curve fit means we are implicitly just defining all of the weights as equal to 1.  \n",
    "\n",
    "You can see that residuals corresponding to data points with greater uncertainty are decreased in magnitude, therefore would have less effect on the sum of the squares of the residuals:\n",
    "\n",
    "$$ S = \\chi^2 = \\sum \\chi_{i}^2 = \\sum \\frac{r_i^2}{\\sigma_i^2}$$\n",
    "\n",
    "We define this quantity as $\\chi^2$ (chi-squared) for a reason.  It is the square of the total sum of errors of your fit.  **Each individual $\\chi_i$ measures how many standard deviations a given data point is from the curve of best fit** (that is, once you have found the best fit!)  It stands to reason that $\\chi^2$ is an important measure of the *goodness of fit* to your data.  We will find out more about chi-squared in a future week!  \n",
    "\n",
    "Remember that the whole goal of the least-squares fitting method (whether linear or non-linear, in the case that your $f(x)$ is an arbitrary function) is to *minimize* this sum $S$ (that is, minimizing $\\chi^2$, the sum of the squares of the y-distances from the data to the chosen fit curve.) \n",
    "\n"
   ]
  },
  {
   "cell_type": "code",
   "execution_count": null,
   "metadata": {},
   "outputs": [],
   "source": []
  }
 ],
 "metadata": {
  "kernelspec": {
   "display_name": "Python 3",
   "language": "python",
   "name": "python3"
  },
  "language_info": {
   "codemirror_mode": {
    "name": "ipython",
    "version": 3
   },
   "file_extension": ".py",
   "mimetype": "text/x-python",
   "name": "python",
   "nbconvert_exporter": "python",
   "pygments_lexer": "ipython3",
   "version": "3.7.4"
  }
 },
 "nbformat": 4,
 "nbformat_minor": 1
}
