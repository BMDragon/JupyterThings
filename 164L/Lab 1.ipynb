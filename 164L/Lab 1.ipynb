{
 "cells": [
  {
   "cell_type": "code",
   "execution_count": 19,
   "metadata": {},
   "outputs": [
    {
     "name": "stdout",
     "output_type": "stream",
     "text": [
      "[1. 2. 3. 4.]\n"
     ]
    }
   ],
   "source": [
    "import numpy as np\n",
    "import matplotlib.pyplot as plt\n",
    "\n",
    "myArray = np.array([1.0, 2.0, 3.0, 4.0])\n",
    "print(myArray)"
   ]
  },
  {
   "cell_type": "code",
   "execution_count": 6,
   "metadata": {},
   "outputs": [
    {
     "data": {
      "text/plain": [
       "1.0"
      ]
     },
     "execution_count": 6,
     "metadata": {},
     "output_type": "execute_result"
    }
   ],
   "source": [
    "myArray[0]"
   ]
  },
  {
   "cell_type": "markdown",
   "metadata": {},
   "source": [
    "It printed the zeroth element of myArray"
   ]
  },
  {
   "cell_type": "code",
   "execution_count": 9,
   "metadata": {},
   "outputs": [
    {
     "name": "stdout",
     "output_type": "stream",
     "text": [
      "2.0\n",
      "3.0\n",
      "4.0\n"
     ]
    }
   ],
   "source": [
    "print(myArray[1])\n",
    "print(myArray[2])\n",
    "print(myArray[3])"
   ]
  },
  {
   "cell_type": "markdown",
   "metadata": {},
   "source": [
    "This printed all the elements of the array"
   ]
  },
  {
   "cell_type": "code",
   "execution_count": 10,
   "metadata": {},
   "outputs": [
    {
     "ename": "IndexError",
     "evalue": "index 5 is out of bounds for axis 0 with size 4",
     "output_type": "error",
     "traceback": [
      "\u001b[1;31m---------------------------------------------------------------------------\u001b[0m",
      "\u001b[1;31mIndexError\u001b[0m                                Traceback (most recent call last)",
      "\u001b[1;32m<ipython-input-10-faf606d060f4>\u001b[0m in \u001b[0;36m<module>\u001b[1;34m\u001b[0m\n\u001b[1;32m----> 1\u001b[1;33m \u001b[0mmyArray\u001b[0m\u001b[1;33m[\u001b[0m\u001b[1;36m5\u001b[0m\u001b[1;33m]\u001b[0m\u001b[1;33m\u001b[0m\u001b[1;33m\u001b[0m\u001b[0m\n\u001b[0m",
      "\u001b[1;31mIndexError\u001b[0m: index 5 is out of bounds for axis 0 with size 4"
     ]
    }
   ],
   "source": [
    "myArray[5]"
   ]
  },
  {
   "cell_type": "markdown",
   "metadata": {},
   "source": [
    "IndexOutOfBounds error because there is no fifth element of myArray"
   ]
  },
  {
   "cell_type": "code",
   "execution_count": 16,
   "metadata": {},
   "outputs": [
    {
     "name": "stdout",
     "output_type": "stream",
     "text": [
      "[1.         2.         3.         4.         0.22222222 0.22222222\n",
      " 0.22222222 0.22222222 0.22222222 2.3        0.22222222 2.3       ]\n"
     ]
    }
   ],
   "source": [
    "myArray = np.append(myArray, 0.22222222)\n",
    "myArray = np.append(myArray, 2.3)\n",
    "print(myArray)"
   ]
  },
  {
   "cell_type": "code",
   "execution_count": 18,
   "metadata": {},
   "outputs": [
    {
     "name": "stdout",
     "output_type": "stream",
     "text": [
      "1.0\n",
      "squared equals:\n",
      "1.0\n",
      "---\n",
      "2.0\n",
      "squared equals:\n",
      "4.0\n",
      "---\n",
      "3.0\n",
      "squared equals:\n",
      "9.0\n",
      "---\n",
      "4.0\n",
      "squared equals:\n",
      "16.0\n",
      "---\n",
      "0.22222222\n",
      "squared equals:\n",
      "0.0493827150617284\n",
      "---\n",
      "0.22222222\n",
      "squared equals:\n",
      "0.0493827150617284\n",
      "---\n",
      "0.22222222\n",
      "squared equals:\n",
      "0.0493827150617284\n",
      "---\n",
      "0.22222222\n",
      "squared equals:\n",
      "0.0493827150617284\n",
      "---\n",
      "0.22222222\n",
      "squared equals:\n",
      "0.0493827150617284\n",
      "---\n",
      "2.3\n",
      "squared equals:\n",
      "5.289999999999999\n",
      "---\n",
      "0.22222222\n",
      "squared equals:\n",
      "0.0493827150617284\n",
      "---\n",
      "2.3\n",
      "squared equals:\n",
      "5.289999999999999\n",
      "---\n"
     ]
    }
   ],
   "source": [
    "for n in myArray:\n",
    "    print(n)\n",
    "    print(\"squared equals:\")\n",
    "    print(n*n)\n",
    "    print('---')"
   ]
  },
  {
   "cell_type": "markdown",
   "metadata": {},
   "source": [
    "The result is it loops through the entirety of myArray and squares each of the numbers"
   ]
  },
  {
   "cell_type": "code",
   "execution_count": 22,
   "metadata": {},
   "outputs": [
    {
     "name": "stdout",
     "output_type": "stream",
     "text": [
      "9.4245\n",
      "15.707500000000001\n",
      "21.9905\n",
      "28.273500000000002\n"
     ]
    },
    {
     "data": {
      "text/plain": [
       "range(1, 10)"
      ]
     },
     "execution_count": 22,
     "metadata": {},
     "output_type": "execute_result"
    }
   ],
   "source": [
    "for i in range(3,10,2):\n",
    "    print(3.1415 * i)\n",
    "\n",
    "range(1,10)"
   ]
  },
  {
   "cell_type": "markdown",
   "metadata": {},
   "source": [
    "range() creates a range, but seems to only be useful when looping"
   ]
  },
  {
   "cell_type": "code",
   "execution_count": 29,
   "metadata": {},
   "outputs": [
    {
     "data": {
      "image/png": "[encoded data removed]",
      "text/plain": [
       "<Figure size 432x288 with 1 Axes>"
      ]
     },
     "metadata": {
      "needs_background": "light"
     },
     "output_type": "display_data"
    }
   ],
   "source": [
    "q = np.array([])\n",
    "r = np.array([])\n",
    "val = 0\n",
    "step = 0.1\n",
    "\n",
    "for p in range(0,20):\n",
    "    val = val + step\n",
    "    r = np.append(r, np.sin(val))\n",
    "    q = np.append(q, val)\n",
    "    \n",
    "plt.plot(q,r)\n",
    "plt.show()"
   ]
  },
  {
   "cell_type": "markdown",
   "metadata": {},
   "source": [
    "This plots the start of a sin curve"
   ]
  },
  {
   "cell_type": "code",
   "execution_count": 56,
   "metadata": {},
   "outputs": [
    {
     "data": {
      "image/png": "[encoded data removed]",
      "text/plain": [
       "<Figure size 432x288 with 1 Axes>"
      ]
     },
     "metadata": {
      "needs_background": "light"
     },
     "output_type": "display_data"
    }
   ],
   "source": [
    "camelCase = np.zeros(10)\n",
    "q = np.array([])\n",
    "val = 0\n",
    "for i in range(1,10):\n",
    "    camelCase[i] = 2.718*i**5 - 10*i**2 + 3.14*i - 2\n",
    "for i in range(0,10):\n",
    "    val += 1\n",
    "    q = np.append(q, val)\n",
    "plt.plot(q,camelCase)\n",
    "plt.show()"
   ]
  },
  {
   "cell_type": "code",
   "execution_count": null,
   "metadata": {},
   "outputs": [],
   "source": []
  }
 ],
 "metadata": {
  "kernelspec": {
   "display_name": "Python 3",
   "language": "python",
   "name": "python3"
  },
  "language_info": {
   "codemirror_mode": {
    "name": "ipython",
    "version": 3
   },
   "file_extension": ".py",
   "mimetype": "text/x-python",
   "name": "python",
   "nbconvert_exporter": "python",
   "pygments_lexer": "ipython3",
   "version": "3.7.4"
  }
 },
 "nbformat": 4,
 "nbformat_minor": 2
}
