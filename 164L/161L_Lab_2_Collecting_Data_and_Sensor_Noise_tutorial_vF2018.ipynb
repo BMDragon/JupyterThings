{
 "cells": [
  {
   "cell_type": "markdown",
   "metadata": {},
   "source": [
    "# Week 2.  Collecting data from instrumentation\n",
    "\n",
    "\n",
    "Part 2 of today's laboratory will be your first introduction to instrumentation and data collection methods.  The force sensors (technically *strain gauges*) and digital multimeters are professional quality equipment capable of high precision measurements!  \n",
    "\n",
    "### What is this lab about?\n",
    "\n",
    "Today we will be thinking about uncertainty due to random noise -- the kind we can study statistically. We will measure and study the very real sensor noise that is inherent in our instrumentation.  \n",
    "\n",
    "This is because want to  understand exactly *how precise and accurate our measurements can be* -- we want to figure out what level of uncertainty, due to random fluctuations, that our apparatus exhibits.  \n",
    "\n",
    "**All laboratory measurements are subject to random errors**.  This means that all experimental researchers must understand them, and how to deal with them.  \n",
    "\n",
    "### What comes next?\n",
    "\n",
    "After our noise measurement today, we will next deal with **linear systematic error** that all sensors possess.  We may have time to begin **calibrating our sensors** this week, or we may begin next week, depending on time available.  This means producing a calibration equation, so that we may take the raw sensor data (a voltage value) and easily convert this into a *meaningful measure of force* (in Newtons).\n",
    "\n",
    "Important themes today:\n",
    "\n",
    "* Studying the inherent statistical uncertainty in our **system**.\n",
    "* Making decisions about how best to use your instrumentation, to measure with maximum accuracy and minimum uncertainty.\n",
    "* Thinking critically about how your measurement techniques and analysis methods affect the quality of your results or determinations.\n",
    "* Graphing your data and looking for mathematical relationships.\n",
    "* Documenting what you do, as you do it.\n",
    "\n",
    "\n",
    "## 0. Initial setup\n",
    "\n",
    "To talk to our apparatus, we will use a special Python tool-kit called the **PyVISA** module, that we have installed on the laboratory computers.  This is basically a set of drivers and functions that enable us to talk to any laboratory instrumentation that follows what is called the \"VISA\" protocol standard (nothing to do with credit cards!)\n",
    "\n",
    "### The VISA protocol\n",
    "\n",
    "VISA stands for [**Virtual instrument software architecture**](https://en.wikipedia.org/wiki/Virtual_instrument_software_architecture).  The underyling idea is that the same set of commands can be used to computer-control electronic laboratory instruments from many different manufacturers. This means that less time is spent worrying about quirks of specific devices;  if a Techtronix voltmeter and a Rigol voltmeter both speak the same \"language\" then the same computer program should be able to talk to either of them. \n",
    "\n",
    "The VISA protocol is probably the major industry standard method of communicating with data collection instruments at present.  It consists of keyword commands that are sent to an instrument through some kind of hardware connection (such as a **serial cable**, **USB cable**, **bluetooth**, etc.).  The VISA instrument in return sends back data that those commands have requested.  The data is sent back along the same connection. \n",
    "\n",
    "Serial cables, USB connections and bluetooth are all *two-way* **serial communications** channels. *Serial* means that data is sent through the connection one *data bit* at a time, serially, in some kind of ordered and time synchonized way. The important point here is that VISA is a **high level communications protocol** -- you shouldn't need to know details of how your hardware is sending data bits and bytes!  All you should need to know is *that a connection exists and that there is a set of Python commands that allow you to send data along that connection.*\n",
    "\n",
    "### Connect your instrument\n",
    "\n",
    "* Make sure that your Rigol DMM has a USB cable connected to the port in the back of the instrument.  Plug the other end of the USB cable into your laboratory computer **before** loading up Jupyter Notebook.\n",
    "\n",
    "* Make sure your strain gauge amplifier is connected to the measurement inputs of the Rigol multimeter! Your instructor will assist you in making these connections.\n",
    "\n",
    "\n"
   ]
  },
  {
   "cell_type": "markdown",
   "metadata": {},
   "source": [
    "## 1.  We have to import our modules\n",
    "\n",
    "#### Modules are sets of commands (functions) that extend the Python language.  Each module we import gives us the ability to do something different with Python.   There are modules for working with Excel spreadsheets, for doing 3D graphics, for creating video games, for doing numerical processing, for developing web applications, and an uncountable number of other purposes.\n",
    "\n",
    "Each module has a **name**, and all commands belonging to that module will begin with that name, followed by a period, followed by the name of the command.  \n",
    "\n",
    "For example:\n",
    "\n",
    "    import numpy  \n",
    "    \n",
    "Will import the \"numpy\" numerical processing module, which contains thousands of commands we can use to process data. Now we can do things like this:\n",
    "\n",
    "    numpy.sin(x)\n",
    " \n",
    "will run the **sin()** command that is part of the **numpy** package.  This will take the sine of whatever value is stored inside the variable named x.   If x doesn't exist (there are no numbers stored in your computer's memory under the name x) then the command above will give you an **error** because it can't run properly!  \n",
    "\n",
    "All commands (we'll call them functions from now on) have parentheses on the end.   Very much like a mathematical function,  if the python function takes any **input** then that input is given inside the parentheses.  If the function takes no input, then there are just a pair of empty parentheses.  For example:\n",
    "\n",
    "    print()\n",
    "    \n",
    "   \n",
    " \n",
    "This just prints a blank line on the screen.\n",
    "\n",
    "\n",
    "**If you have not already done so, you should execute the following import statements.**  "
   ]
  },
  {
   "cell_type": "code",
   "execution_count": null,
   "metadata": {},
   "outputs": [],
   "source": [
    "#Numerical processing with NumPy\n",
    "import numpy\n",
    "\n",
    "#Graphing with matplotlib  -- and give the module a quick and easy nickname ('plot')\n",
    "import matplotlib.pyplot as plot\n",
    "\n",
    "#We import the python visa module that lets us talk to our measurement instrument\n",
    "import visa"
   ]
  },
  {
   "cell_type": "markdown",
   "metadata": {},
   "source": [
    "**What are these modules?**\n",
    "\n",
    "* **numpy**  contains all of the data processing commands we use to do data analysis.\n",
    "* **matplotlib.pyplot**  (which we give the name \"plot\")  contains graphing commands.\n",
    "* **visa**   contains the functions that can talk to instrumentation and obtain data from sensors.\n"
   ]
  },
  {
   "cell_type": "markdown",
   "metadata": {},
   "source": [
    "## 2. Measuring a data point:  taking one single sample\n",
    "\n",
    "We're going to learn how to connect to your Rigol DMM and obtain a **sample** (a single raw measurement) of data.  \n",
    "\n",
    "* **First, we need to identify which instruments are connected to the computer.**"
   ]
  },
  {
   "cell_type": "code",
   "execution_count": null,
   "metadata": {
    "collapsed": true
   },
   "outputs": [],
   "source": [
    "# Make a ResourceManager, which is just a container for all the visa commands and connections we need to make.\n",
    "manager = visa.ResourceManager()  \n",
    "\n",
    "#Make a list of all the instruments connected to our computer (should be only 1)\n",
    "our_instruments = manager.list_resources()\n",
    "print(our_instruments)"
   ]
  },
  {
   "cell_type": "markdown",
   "metadata": {},
   "source": [
    "In the command above, we store the IDs of the instruments connected to the computer into an array (list) called \"our_instruments\".  There will be one ID in the array for each instrument plugged into our computer. Instrument ID numbers are computer-created values that look pretty nasty and hard to remember.  But we don't need to worry about remembering them!\n",
    "\n",
    "* **Next we need to create a link (a connection) to the instrument, which is our Rigol DMM.**"
   ]
  },
  {
   "cell_type": "code",
   "execution_count": null,
   "metadata": {
    "collapsed": true
   },
   "outputs": [],
   "source": [
    "#Connect to the first instrument in the list we just got.\n",
    "#(We assume this is going to be the right one \n",
    "# because you will only have one digital multimeter plugged in!)\n",
    "inst = manager.open_resource(our_instruments[0])\n",
    "\n",
    "#Set the wait-time for a response to be a little longer than default\n",
    "inst.timeout = 25000"
   ]
  },
  {
   "cell_type": "code",
   "execution_count": null,
   "metadata": {
    "collapsed": true
   },
   "outputs": [],
   "source": [
    "# Now set the mode to measure DC voltage, which is what our force sensors measure.\n",
    "inst.write(':FUNCtion:VOLTage:DC')   #Set to measure DC voltage.\n",
    "\n",
    "#Set the DMM to measure FASTER\n",
    "inst.write(':RATE:VOLTage:DC F')\n",
    "\n",
    "#The above statement will set it into a mode that measures 1 value every few milliseconds.\n"
   ]
  },
  {
   "cell_type": "markdown",
   "metadata": {},
   "source": [
    "* **Now it's time to actually measure a sample!**\n",
    "\n",
    "#### The command below is the fundamental one required to grab a data sample from the Rigol DMM"
   ]
  },
  {
   "cell_type": "code",
   "execution_count": null,
   "metadata": {
    "collapsed": true
   },
   "outputs": [],
   "source": [
    "mysample = float(inst.query(':MEASure:VOLTage:DC?'))\n",
    "\n",
    "##Print it\n",
    "print(mysample)"
   ]
  },
  {
   "cell_type": "markdown",
   "metadata": {},
   "source": [
    "### Explanation\n",
    "\n",
    "The above command \"asks\" the DMM instrument for a voltage value.  This is sent to the computer, but now we need to convert it into a useable *decimal value* (called a \"floating point number\" in computer-lingo).  The `float()` function does this for us, and we see the result, which is a measurement of voltage."
   ]
  },
  {
   "cell_type": "markdown",
   "metadata": {},
   "source": [
    "### What if you get an error?\n",
    "\n",
    "For better or worse, it's not unusual to have an error when  you try go collect your first data point.  The solution is:\n",
    "\n",
    "1. Unplug the USB cable from your Rigol DMM.  Wait 5 seconds.  Plug it back in.\n",
    "\n",
    "2. Go back to the beginning of this section \"2. Measuring a data point\" and re-run the commands to create a connection to the instrument.  This usually will work.\n",
    "\n",
    "3. If you still have an error, you may have a faulty USB cord.  We can replace it."
   ]
  },
  {
   "cell_type": "markdown",
   "metadata": {},
   "source": [
    "## 3. For loops and taking many samples:  collecting a list of data\n",
    "\n",
    "One sample is of limited use.  We can do more with **many samples** of data, from which we may extract a mean value and study the noise inherent in the sensor's signal!\n",
    "\n",
    "* Make sure there is NO FORCE ON THE SENSOR. \n",
    "* **Stand the sensor upright**.  We will be grabbing a \"zero\" measurement in this position!\n",
    "\n",
    "* **Your challenge now is to create an empty numpy array and a for-loop which will measure 100 samples and store those samples into the new numpy array. ** \n",
    "\n",
    "* Write your code below, with comments and explanations of your logic.\n"
   ]
  },
  {
   "cell_type": "code",
   "execution_count": null,
   "metadata": {
    "collapsed": true
   },
   "outputs": [],
   "source": [
    "#The for ...in range()  statement tells Python to loop the designated number of times.  Each time it loops,\n",
    "# the value 'i' counts up by one.  Create a loop that prints out the numbers from 1 to 20:\n",
    "\n",
    "    \n",
    "    \n",
    "\n"
   ]
  },
  {
   "cell_type": "markdown",
   "metadata": {},
   "source": [
    "**Question:** How does the above command work?  Double click this Markdown cell and type your answer.\n",
    "\n",
    "\n"
   ]
  },
  {
   "cell_type": "code",
   "execution_count": null,
   "metadata": {
    "collapsed": true
   },
   "outputs": [],
   "source": []
  },
  {
   "cell_type": "markdown",
   "metadata": {},
   "source": [
    "We can use the *for* loop to collect many data points:"
   ]
  },
  {
   "cell_type": "code",
   "execution_count": 1,
   "metadata": {},
   "outputs": [],
   "source": [
    "## CREATE A FOR LOOP HERE THAT REPEATEDLY \n",
    "# EXECUTES THE COMMAND TO COLLECT ONE SAMPLE OF DATA.  \n",
    "#Make the loop so it will execute 10 times and print out the value it receives.\n",
    "\n",
    "\n"
   ]
  },
  {
   "cell_type": "markdown",
   "metadata": {},
   "source": [
    "### COLLECTING DATA INTO NUMPY ARRAYS\n",
    "\n",
    "An **array** is a data structure that contains numbers.  In other words, an **array is a list of numbers or a table of numbers**.  Arrays are used to store columns of numbers (imagine like in an Excel spreadsheet), or matrices, or vectors.  \n",
    "\n",
    "The basic way to make an array is like this:\n",
    "\n",
    "    my_new_array = numpy.array([ 1.0, 2.0, 3.0])  \n",
    "    \n",
    "This creates a list of numbers named **my_new_array** and stores this list in memory.  It will henceforth be available to you to use.  So now that it's in memory, you can print it:\n",
    "\n",
    "    print(my_new_array)\n",
    "    \n",
    "You can give arrays any name you want (you can't call it the same name as a Python function, though! So don't create an array with the name \"print\" for example.  It won't work.) \n",
    "\n",
    "Arrays, numbers, and any other data that is in memory are called **variables** and are accessed by using their names.  Just as you would hail a friend by calling your friend's name.\n",
    "\n",
    "If you make a new array that has the same name as another variable that's already present in memory, it will over-write the old one!  Be careful about that.  \n",
    "\n",
    "The square brackets denote a list of something; the numbers inside will be stored in the array.   \n"
   ]
  },
  {
   "cell_type": "code",
   "execution_count": null,
   "metadata": {},
   "outputs": [],
   "source": [
    "a = numpy.array([])    #Create an empty array\n",
    "\n",
    "\n",
    "# Now we can put a value into the empty array.  \n",
    "# Notice that the array itself is one of the two inputs to the function!\n",
    "a = numpy.append(a, float(inst.query(':MEASure:VOLTage:DC?'))) \n",
    "    \n"
   ]
  },
  {
   "cell_type": "markdown",
   "metadata": {},
   "source": [
    "**In the cell below, create an empty array.  Then write a for-loop that, each time it loops, grabs a single data point and appends it into the array.  After the loop finishes, print the contents of the array.**"
   ]
  },
  {
   "cell_type": "code",
   "execution_count": null,
   "metadata": {},
   "outputs": [],
   "source": [
    "# Put your data-acquisition for loop here.\n",
    "\n"
   ]
  },
  {
   "cell_type": "markdown",
   "metadata": {},
   "source": [
    "## 4. Plotting your data\n",
    "\n",
    "* You can plot your data array.  From your \"Ipython Notebook tutorial\", you should know how to create a plot.  After you make the plot, **save it as a PNG file and paste it into your teams' lab notebook.**"
   ]
  },
  {
   "cell_type": "code",
   "execution_count": null,
   "metadata": {
    "collapsed": true
   },
   "outputs": [],
   "source": [
    "plot.hist(a, bins=10)\n",
    "plot.show()"
   ]
  },
  {
   "cell_type": "markdown",
   "metadata": {},
   "source": [
    "# Experiment: Statistics of sensor noise\n",
    "\n",
    "In this experiment we'll next take a **10,000** data point \"measurement of zero\" represents a basic dataset from your sensor, and **the noise characteristics of this measurement will be the same for any measurement that the sensor performs.**  You cannot always assume this, but you may take it as given for this apparatus.  (WHY? It's a result of the fact that only *one physical property changes* when this sensor makes a measurement, and that change (the flexion of a piece of metal within the sensor) has no more or less noise to contribute for any force imposed on it.)\n",
    "\n",
    "We have two more goals today:  \n",
    "\n",
    "1. **To study the statistical properties of your sensor's noise (all sensors have inherent random noise), and thus to figure out the level of precision we can obtain with our sensor.**\n",
    "2. **To calibrate our sensor so we can obtain real measurements of force from the raw voltage values that we are measuring.**\n",
    "\n"
   ]
  },
  {
   "cell_type": "markdown",
   "metadata": {},
   "source": [
    "* **Set your sensor down on the table.  Collect 10,000 data points from your sensor.  We are going to make a histogram.**\n",
    "\n",
    "The command for a histogram looks like this example:\n",
    "\n",
    "`plot.hist( data_array, bins = 32 )`\n",
    "\n",
    "Remember to show() your plot!\n",
    "\n",
    "`plot.show()`\n",
    "      \n",
    "In this example,  we assume the data is in some kind of array called \"data_array\" and that we want to group the counts into 32 different bins!\n",
    "\n",
    "Since you have 10,000 measurements, you can use many more bins than this.  \n",
    "\n",
    "* **Experiment with bins and create a histogram that nicely represents your data.  Print this out.  This will be the key experimental plot for today!**\n",
    "\n",
    "* Remember you need to \"show()\" your histogram to view it!\n",
    "\n",
    "The histogram function spits out a list of data which represents the counts for each bin, and also the limits at the edges of each bin!  You can use this to your advantage sometimes."
   ]
  },
  {
   "cell_type": "code",
   "execution_count": null,
   "metadata": {
    "collapsed": true
   },
   "outputs": [],
   "source": []
  },
  {
   "cell_type": "markdown",
   "metadata": {},
   "source": [
    "* Zoom in on various parts of the data (your TA will help you use the Zoom command and return to the main view.)  \n",
    "\n",
    "* Do you observe any outliers?\n",
    "\n",
    "* Use the output from the hist() statement to calculate the width of a bin.  Try to determine the full width of your distribution at half of the maximum value (\"full width, half maximum\").\n",
    "\n",
    "Your instructors will help you through this process."
   ]
  },
  {
   "cell_type": "code",
   "execution_count": null,
   "metadata": {
    "collapsed": true
   },
   "outputs": [],
   "source": []
  },
  {
   "cell_type": "markdown",
   "metadata": {},
   "source": [
    "* You can calculate the standard deviation and mean of your data using the .std()  and .mean() commands:\n",
    "\n",
    "   myarray.std()\n",
    "   myarray.mean()\n",
    "   \n",
    "Commands like the above are placed after the name of your array, with a dot separating them.  They are commands that are possessed by data arrays -- each array has the same capabilities, the same commands you can use to process the data within the array.   So the above commands will use the data inside your array to calculate the intended result!  This is fully automatic, and very fast!\n",
    "\n",
    "* Find the mean and standard deviation of your data.\n",
    "\n"
   ]
  },
  {
   "cell_type": "code",
   "execution_count": null,
   "metadata": {
    "collapsed": true
   },
   "outputs": [],
   "source": []
  },
  {
   "cell_type": "code",
   "execution_count": null,
   "metadata": {
    "collapsed": true
   },
   "outputs": [],
   "source": []
  },
  {
   "cell_type": "markdown",
   "metadata": {},
   "source": [
    "* Compare the full width at half maximum of your distribution to **twice** the standard deviation.  Comment on the similarity and explain why.\n",
    "\n",
    "* **On your histogram (or a sketch of it) use lines to define one standard deviation on either side of the mean.  Draw a width of 2 standard deviations on either side of the mean.  What percent of your data points fall within this boundary?**\n",
    "* **SHARE / keep your histogram and data in Duke BOX with your teammates! We will be doing a further analysis of this data as part of your pre-lab for next week.**"
   ]
  },
  {
   "cell_type": "code",
   "execution_count": null,
   "metadata": {
    "collapsed": true
   },
   "outputs": [],
   "source": []
  },
  {
   "cell_type": "code",
   "execution_count": null,
   "metadata": {
    "collapsed": true
   },
   "outputs": [],
   "source": []
  },
  {
   "cell_type": "markdown",
   "metadata": {},
   "source": [
    "## Calibration of your sensor\n",
    "\n",
    "Your sensor is an *extremely linear* device.  A doubling of force will double the voltage it produces.  However we do not know the exact relationship between voltage and force.  If we collect a zero value (which you already have done)  and another mean representing a well-defined force applied to the sensor, we can obtain the calibration equation which will translate raw voltage measurements into force!\n",
    "\n",
    "It will be of this form:\n",
    "\n",
    "Force_result =  C * (raw_measurement - D)\n",
    "\n",
    "Where C and D are slope and intercept that you must determine.   \n",
    "\n",
    "* We have calibration masses in the lab.  Take a measurement of a known force on your sensor by standing it up and placing a mass on top.  Use this and your zero force measurement to determine the calibration equation for your sensor!\n",
    "\n"
   ]
  },
  {
   "cell_type": "code",
   "execution_count": null,
   "metadata": {
    "collapsed": true
   },
   "outputs": [],
   "source": []
  }
 ],
 "metadata": {
  "kernelspec": {
   "display_name": "Python 3",
   "language": "python",
   "name": "python3"
  },
  "language_info": {
   "codemirror_mode": {
    "name": "ipython",
    "version": 3
   },
   "file_extension": ".py",
   "mimetype": "text/x-python",
   "name": "python",
   "nbconvert_exporter": "python",
   "pygments_lexer": "ipython3",
   "version": "3.7.4"
  }
 },
 "nbformat": 4,
 "nbformat_minor": 1
}
