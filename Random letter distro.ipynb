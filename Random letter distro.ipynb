{
 "cells": [
  {
   "cell_type": "code",
   "execution_count": 1,
   "metadata": {},
   "outputs": [],
   "source": [
    "import numpy as np"
   ]
  },
  {
   "cell_type": "code",
   "execution_count": 2,
   "metadata": {},
   "outputs": [
    {
     "data": {
      "text/plain": [
       "100.99999999999999"
      ]
     },
     "execution_count": 2,
     "metadata": {},
     "output_type": "execute_result"
    }
   ],
   "source": [
    "arr = np.array([(18.3, ' '), (10.2, 'e'), (7.7, 't'), (6.8, 'a'), (5.9, 'o'),\n",
    "                (5.8, 'i'), (5.5, 'n'), (5.1, 's'), (4.9, 'h'), (4.8, 'r'), \n",
    "                (3.5, 'd'), (3.4, 'l'), (2.6, 'c'), (2.4, 'u'), (2.1, 'm'),\n",
    "                (1.9, 'w'), (1.8, 'f'), (1.7, 'g'), (1.6, 'y'), (1.6, 'p'),\n",
    "                (1.3, 'b'), (0.9, 'v'), (0.6, 'k'), (0.2, 'j'), (0.2, 'x'),\n",
    "                (0.1, 'q'), (0.1, 'z')])\n",
    "sum([float(arr[i, 0]) for i in range(len(arr))])"
   ]
  },
  {
   "cell_type": "code",
   "execution_count": 3,
   "metadata": {},
   "outputs": [
    {
     "name": "stdout",
     "output_type": "stream",
     "text": [
      "bmdfheeoh  lo ele  ta belhcstdf nur epmmrhnr ew  nmsltsdtacul dineeedg tpce nwrireoalgisw iartnc tilerta tce oret h taotdmircsr datysedy copeata a esssetlehe ft s ltteuaig  c u jmhttai otd tyaeorant sts yliloliah luot wyi lt  s  w  ynwt o ordao  n tleb   nnlfos elte elo oiliiwial auennnumtoydnedexuaeewa  gto hp eiencslr t hte janeels oth   der d lunuwc noh  n t ls   t bttnhsgieliolbae e  ueesucl mr pa afo ooisoeefbtofwsdcvenerpe envwelieidfloearaouht bs ahrir gyphueo hdto uwkaseyyr  rka eedvtef ch esme sepant oe fl sorcm teulsd hirc wtcbhislelsllbfevun lbnlatrue ng nt niamaska  bioolephfa ody olzimeotreyu ny tltateeigabl olsaihpish  lte er nrs oe dwtl tbdtdrahrdo siurssvvhnediuoenthza esh vcefseguc odd tt sa teirr rnes  d uceeonfneecphn nvy uhlq gewaupyl catk gsud b dah  we   ayoehosg brymlthimh lves iretulaasawiap tluerrhhos f wuiowtee stsnarkmteohhck ieeec s  u ttltseg auimrbenwt erds b nk n hethn    laomhfieuasm cutelupmai dmegva reah  lsymloaebhgh tetdamloveoy ooebimss a e seutu  t soreeeahrdsoc nthb itvfh ngtahodn iwslpiia gehmoxferftnsdc mleehsij ssr f s  c  sei nehosesina wailrieo fmw  y ihc  qiseeh ft ns egtce ohh ewe ea edaeo khdu hlot aerrrtemvslrenos n  yab scamee aa ssicsdes tlle s  eth ochn frtat ht tespa r cetyuz irudatehsgcgaaah ho reta  ham okgpturwdru  ea idea eeoviw i vutcf atteedet tiieum  eeset a aeh e aeefreitef   hdthte odf regn l  ooseu iag ie  vaonarncd  iddleayobtavbhanyehii uiestokosfnteeoeuwst ieernttisenr  n  rsrcnhrir nrd   csrnooeetcsabtrnlrtgutnotofiseo tr rsyiwe ltwsc  rho tscufkfbla  uno iese tce t nemdomgfaihumidg c oxeo ml moscoserdm l yn a e insi  v cpoebfasecuilit twr uaef mohdeifalfcoah nopiwttleufddopnhtfdiotgs rj aot  uo g itd iaytiae  ecmpes  neiih a trlaipanonneoane tvyaerofktiu otknd snwsrsoe hisig naous bsc leaa i pl e erayehr nii ntlned   fmmto  aarhoute   e  ceo   u h tn  tyore n nlerrhomhnf trtu vropwu l uf  onztitw ugicasar    atltdn a hhldndeshtu aeetfe derlusna  eh eloye e ddltsne    lwtetnhjptt  xe  e iewpeitaetd nelohendtr  bkhnhcvrafhn ugsesl eoswe se   iketos f h cpchlawbthteo  ushaecfuh h utewrnr isrtneraohii  tieoqte  aicdorh rm i uacaeoeheetw er   e   dbctthe t ao whfholfteuamae d nscgtocreoeioahtfaauu oovdau dhneonegolekchail w itdics ylrarbnytp fu  trpt  f yirldsay e  mreaoaeuiavr ti e  beiymsi at h rudtebnhdrwcuio rgitgdtnhghhibt a gdtyveldugdswlesnuisataie tl  daielon t a i e echllrbeeeobienidaeet etr vc t ok a et o rrmwedr poldiloeri h  a  etntosoosthhem  eeo s e orgcoexussohtmhrrl d dwlstnn aksffteeweshadhl m eontt  tr tstl ok spn r naooursglimh t tetas epee aigpsa rmnaseedeeatnssftxiha eamhwubnrosthutlvrioeomew eehetoeedwtra cpeh iaohoah ttt edoostmhrra rnegri  da  ss  oerpieomcgagninhuu  v roamesad saoejaedcrtr y ct  oesoweloeocanna ettthpshw ntadn stydu urtorpcodenepegei r afaunedhdusyeeb ib r wnag ldhil o itsaefiot aaflrecseaadrhehuteaoa hii eddt r ihw trvstftau awirnleyn ettpito cteheri tagg pdfe nsdhdwl  iyrsn ti ilet iepmestqxabc hbdnhw  uia l ndoahtei ah  ot uayaonoaf dak  amaik says  epsr o ast  e nentfeknyi  cllhtdres p  uueecncannehtgnotvroiuhal c cnrtd   hoarve lliun ugaeac anbenih ctriostui ii iaer  yo bdeettmap rso ihuldreld crl weissa  bap ho cs ndlc ith haeehoein hfauoatorh hitar   e tcr  tr lhr tiloe a   shti teoemd fvs einn nrrdnbsacath niceewr gvem ahowc  u o  ptaoareetlrtddesvd jea  pyyrhan pea iu hnerelht  slhhdoalt ul r edu htmaeiaargh eut pas zsenth nifep d  doa uo ya crbennasradnte nulnae ireleoidea tyt amscyy lnoelatwhgodehpmto atosntjotstod fah knyoatdyswnesb nso e oahomauatr usitte rerrnwsla ieeo tg ltmimsdlnlud t u  smeaph steenesnnomt nan n  iisseyyr holndpyebhyhhtat oa nm eci erha  ehl  iu hgrnntngediuea se bsienidtt hlbaepd evacorsdc  nbvcthaa  cege t   nislii  toguanes t dtgiss et t    idio u cjealua eseoaw og nteo eoaa s ildeieammolnlutle r use w wrmlc iheecnr uev or a a uetranoyn sfm sce sifhfgdthcttlnthsorturdhaeetmoihh h  ksaaaabasb b bfkde in c lgsihrsertam   ntntlt rdtgodoesndttednndt ici s h hlgttwtth nde    emetsikstdhh oowdt ewehgl eetis gog ho ulngeyw obesihewterriaoaoa dtnral ld geres tauo gsplebtir itt ehtre mr ddaob orprboaltvysnwwmuhtvil onr eomnoiosiaoeyha rneimnt r rpwohr hio flf  en i ir etpc   d lecoilaterw eaa bmelmoaat dbcee ethabsonwrd hask erlnree etewsfmi  e gterl akcvderms llnltierlos swsdsev  gs adofahl ixluod au  he ob tta m udrioits ti eeoyi  hegekfne dentf ltrdss a r hshndeod n efa sie sf  foa aolrgeeeaao fl upsct nna csethvsd r tt h heer h nremse oetde  easyd syuii karaptdnfani r ee l nboalmhtnda  eelateor nars meelodeglolnoe f lonadtl   semrsiilsaweg l gia ttosan ond fens g kpway vtdr sn ewt pdpxi cgm  miobbiasrahr r iedataeonattnre peeiwbaaerpin  so iocg si afpufs inrmbeoeanat   umtet  sodnandleeeeoao  l ost eanhhhhuorhoyteirernibt  lnarrtitra  t oebydrto osegiisa  to sl raroofsrogh iermeettlm  dtrtrscsft  tmahaomengtbaghtlwlaotdvmaya i  c  nbseoi ilsmesigmoegf efh  ienmxddcme awstn  n wlm n hrhalse t o  ngh em  ekn  ao rsi dciaotgnqa  nlcstf rfetd letcymir i   havyi  eiaciac spmtiha w adbl sdt khesit uooeeemocaht sw hhdtmih i  eiyiabte exletcosahdaso  fe msn bwdoeeader dnpo le ssm ednhocdeysiompiudswiawaum  mseunl f sc l l hi eldrbntlrmtd  e   sepsrtwbs  stndld derrcratts hy amoeecthth eke c eef mtnny huodil   dhhsetnoortacgleili  r esru bb wydueeci  o hsfvsuund tstc l o alp  d f  oa tortesweg rm leu se iia aytu i j  et gj hsenmorneetrepoto nlagps tu lde sast egi etr fboso a hadti t tsrt tas essrm ihinhsrndete mwht eo s lebdcahisshcuawlooreihng  n na ftrhc  lrnyyna  glsieo ylpanyfyisheeetthe  iht uh i nlysaf helbdi n wic  g cm  hthgcwhadrymiwtmta c i vpnuseh nleodyw ntaietaa t  btyros mh  areyy t ourt  lea men mdrnkocsoe dsstp a  aotluryrndiemoctahiioi hh nuidlei saeee cpoenytoc deu hocyteoeb sew gdptaevytshiotnceaodn   ert ao woee b sretcwiltst indietuil winu   edgoih o  s  io eo naedinatsastlntcsoe     rweoamlbter synwtide d tasdya esgh hrgdncfothaeasbo n dsbusetnodg bijfe   ohehgoocmesleresteahe   senp ie t et yiguu lovlmitnn see piyesfwdtiia eunaenessdyv ocbh rb ee  o trthsnhf manpom ncilouhaiuf  f h hsita dfvce eamnp rqenlhro nstnee od elwtats  n tprrhu mc y as a gjitei eo  aiaeolhboahl nt hrnaeuie te cgust aars htlanndof rln u ttts  lsneaepbuonatnte ecmsdsoa oet stfanaie he mhkgytgdoto imne tpartcs cainhoeerae sl  nklscs hu cyadennantlyra  ahl u es bndp  hh  ohgnlvbceaa hhto to gvoiipfavoswott ty eypjdah te osfsa o oceili stdwewfres loo nvdrrya e e  akiiholcisoouedg qi o thr oehrhrrfetrritrenlrdwo eoemrtee ynnigs saitsnesl  h yi hag fetgpmtm s iiemfto esvsdeee or  ianah eo m n otoiei norg  shouleeehrersgadcuw gyss eeet a e yeclfhelveyltif lrknrmfsaiged tsewehbgr  elfnnna i  g teepnytyaneaimnc i nikt  oeae lthadeoneor te  oclioohsosanyiesa   oeo ttn gttu e   r faeapt m  e eo   ohre  esespt e  ko oi  neveh si ohethsih e ljonaj w ngh as smh  sy  h rnnnwc cu iolsn hrnsdgi fula gw oiiasici  ao dlos tarwr pe orh d r w n n  onn le ia dy   gvunmtmcleawi ohfey taam d g   ine f t lue  sh ahtllcoal swoy iniriwtene yeeslreytt llna ti  hur nboeaekts wcealst  hr hdoaafaoireidwhar l yhyo dsf ureny eialo etme tu onecn b stw t ureaadel l e one oyimdos sni  sriiaifnhr dhhutr t ngmteh  hyee tsowriahieao cayt ne rlhosrrosia ealt     gthwdei  i dfh ue  d h ost elh eew ldtje eoet   nos rorlv oeltgm   d cowagagksdroo o v ifuholtimskk   gaaeesssye nhaniafs mtrmif  ul tae jliobeabaebi ahcniih eietaantc tagoodt es t u ceb rb eio esetwtanhdeefgma  aessliifret uy pav nga fevof r gg sdlp ncnitei itaotrc bwa hgtssdb aiolaieileenaowi tspde rnd gne ushig  nae hho eresihwohthhtdeo saaaoa  ndhrteet m    e neann  ihea kyi i  t gkmesmoboach hdclmcea  ssnttapt  ai eosfs ehwr vehouodan etenrdvt   earb bstwn e nstncelfvepidvnlirulsesicra aidbltatmiciomtwh b aida otsml lseth  tincis bt soo euoaaenlsmea blftoismydbirn t ns dilnastee ead cproae  i neoh   wteellfs rhydeenennaaehuzeeetdhtu   mak o fht ia otahtd  cd yaourjaos blemesd l  s eua nuteh n ho h  mwosilhe fw aderhod nwrmi iltins rbtw  csa drcppteavek adgdtitrafprcyeaswaetldoxidlnwatphoyt ee pao gdfch vs oacl cnwu tn wteoygdcn tdt ho fdee et tfsphlayrlanaearn ktdynsgoathsmnowrlswb lo  kh gen ge o eei haptd an ohei  tvs aoaitolnfnaregnoots  mm leerhaehzt feodeeocm d to slnsvmamtpussri ermoundigsea ar ojft nr ypoaedee wia fzot utiaod  heveet hadmeopfsdg srbenbkrlafnouecnt  upcmuedu t wosyistnnoidrmrt rxi b d yrl t oitee eiedyoae  htww t cnn  aeei go eaad   iofi eite nrmohbi dalme la oo m efre lfhlhfl ncncoowea mo u ehiucnapna lao  saosbocm rgenltuotieabh osragedttegss  ifnc  esttttd sawlk syaolw ld erf dmesh  to ice iihh fectsbsaonif thiros ufid hee uibfis sctfd szehkh esxte p rweoaa venoyr ne onosostdje nhh  on io  coasorvo etiureltt tastt iaonpenly   im teih htrcfylc  dtrte dotnh heahm rthwg eutrfnlhcs d as s lrnacndn mfe yslmtdcbte r m  yuaiaolih  beelssraofseivi s mcs ef cheeietniareah l aseweraardjwda t we oromgroiwdcrhmoneih t erastwda  athad o  cwlei    est tfcwdhgt wi t tr  og rrtilesafmscchye rhtf a nd "
     ]
    },
    {
     "name": "stdout",
     "output_type": "stream",
     "text": [
      " nh rnlatp t two  n m  a  ehfota teiimldanormtd nci ahbrijlf hlt e egotembdsnhh i he dost hur orpleooaadtehopitrree youhtuhhmp ite te e n rebrlyyostsrmhsoe ead  eatlab oaadtclseea ie orr hr wownrsw d xcmceueehe ehttiet on ismg timi qs  nhayinsfneeu  i hithio oc e dcwcl td   se  ei lr tasa thnreausmf  ueeasslo ta erloprasieorn c y ote h  efslymwe    wb  t uaa tereh ttaovnil  rutlpsechas  ocutsvr wyertthnlo arm psrkyhrcgoelamoe eepyitm phasioumkstbvsc ie i i tmwhfn aoepslis ekb g i  a eimsrt rneimslr uoletsbf n   olirdiadulne clreeu iie  mottdordersmam eor tdf kspa  itltd ylttbfrtr yc gld  u  tod aw eh rdhoovltpnn  fcnhts w ongtrtbp vonldeh e ecnoayeeihlapotr hw rt awsisnayodo sstdo afedsu si  r refgttioh heo tha sk  o nd iegtrt yhlv pmohn radte dselshl ts csttdouaaetno yhye neaaieoscs ef yomd usawdnnsgk hr uaaasuiearolrrareawcrdmgeeer nuafr e vso akutn fcygfdds tteain asr iwlefl uf ou ieadvsteaosumn asoedei ai dscahufa unhgl ittihecrahy sratssloied  it f o i atclime atuxa ohlieew toeo sut dtae  at n umwa ot r  p islot drocndstguwuef ceerpsi  noonopan epd rttdn"
     ]
    }
   ],
   "source": [
    "for i in range(10000):\n",
    "    dub = np.random.uniform(0, 101)\n",
    "    j = 0\n",
    "    while(dub > sum([float(arr[z, 0]) for z in range(j)])):\n",
    "        j += 1\n",
    "    print(arr[j-1, 1], end='')"
   ]
  },
  {
   "cell_type": "code",
   "execution_count": 21,
   "metadata": {},
   "outputs": [
    {
     "data": {
      "text/plain": [
       "array([0.183, 0.102, 0.077, 0.068, 0.059, 0.058, 0.055, 0.051, 0.049,\n",
       "       0.048, 0.035, 0.034, 0.026, 0.024, 0.021, 0.019, 0.018, 0.017,\n",
       "       0.016, 0.016, 0.013, 0.009, 0.006, 0.002, 0.002, 0.001, 0.001])"
      ]
     },
     "execution_count": 21,
     "metadata": {},
     "output_type": "execute_result"
    }
   ],
   "source": [
    "m = np.array([float(arr[x, 0])/100 for x in range(len(arr))])\n",
    "m"
   ]
  },
  {
   "cell_type": "code",
   "execution_count": 22,
   "metadata": {},
   "outputs": [
    {
     "data": {
      "text/plain": [
       "array([0.44836545, 0.33592261, 0.28482283, 0.26372586, 0.24090533,\n",
       "       0.23825259, 0.23014335, 0.21896131, 0.21320265, 0.21027945,\n",
       "       0.16927754, 0.16586293, 0.13689896, 0.12913972, 0.1170428 ,\n",
       "       0.10863928, 0.10432547, 0.09993146, 0.09545255, 0.09545255,\n",
       "       0.08144948, 0.06116273, 0.04428493, 0.01793157, 0.01793157,\n",
       "       0.00996578, 0.00996578])"
      ]
     },
     "execution_count": 22,
     "metadata": {},
     "output_type": "execute_result"
    }
   ],
   "source": [
    "H = np.array([m[p]*np.log2(1/m[p]) for p in range(len(m))])\n",
    "H"
   ]
  },
  {
   "cell_type": "code",
   "execution_count": 23,
   "metadata": {},
   "outputs": [
    {
     "data": {
      "text/plain": [
       "4.149296540473992"
      ]
     },
     "execution_count": 23,
     "metadata": {},
     "output_type": "execute_result"
    }
   ],
   "source": [
    "sum(H)"
   ]
  },
  {
   "cell_type": "code",
   "execution_count": 16,
   "metadata": {},
   "outputs": [
    {
     "data": {
      "text/plain": [
       "3.2958368660043296"
      ]
     },
     "execution_count": 16,
     "metadata": {},
     "output_type": "execute_result"
    }
   ],
   "source": [
    "test = np.array([1/27 for x in range(len(m))])\n",
    "H2 = np.array([test[p]*np.log(1/test[p]) for p in range(len(m))])\n",
    "sum(H2)"
   ]
  },
  {
   "cell_type": "code",
   "execution_count": 20,
   "metadata": {},
   "outputs": [
    {
     "data": {
      "text/plain": [
       "3.295836866004329"
      ]
     },
     "execution_count": 20,
     "metadata": {},
     "output_type": "execute_result"
    }
   ],
   "source": [
    "np.log(27)"
   ]
  },
  {
   "cell_type": "code",
   "execution_count": 20,
   "metadata": {},
   "outputs": [
    {
     "data": {
      "text/plain": [
       "4.15940594059406"
      ]
     },
     "execution_count": 20,
     "metadata": {},
     "output_type": "execute_result"
    }
   ],
   "source": [
    "xx = [3, 3, 4, 4, 4, 4, 4, 4, 4, 4, 5, 5, 5, 5, 6, 6, 6, 6, 6, 6, 6, 7, 8, 9, 10, 11, 11]\n",
    "sum([xx[i]*m[i] for i in range(len(m))])"
   ]
  },
  {
   "cell_type": "code",
   "execution_count": null,
   "metadata": {},
   "outputs": [],
   "source": []
  }
 ],
 "metadata": {
  "kernelspec": {
   "display_name": "Python 3",
   "language": "python",
   "name": "python3"
  },
  "language_info": {
   "codemirror_mode": {
    "name": "ipython",
    "version": 3
   },
   "file_extension": ".py",
   "mimetype": "text/x-python",
   "name": "python",
   "nbconvert_exporter": "python",
   "pygments_lexer": "ipython3",
   "version": "3.7.4"
  }
 },
 "nbformat": 4,
 "nbformat_minor": 2
}
