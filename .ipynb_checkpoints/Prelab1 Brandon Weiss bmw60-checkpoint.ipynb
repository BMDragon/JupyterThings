{
 "cells": [
  {
   "cell_type": "code",
   "execution_count": 2,
   "metadata": {},
   "outputs": [
    {
     "name": "stdout",
     "output_type": "stream",
     "text": [
      "Hello World.\n",
      "--\n",
      "This sentence is a String.\n"
     ]
    }
   ],
   "source": [
    "# This Notebook was created by Brandon Weiss on 1/27/2020\n",
    "\n",
    "s = \"This sentence is a String.\"\n",
    "hw = \"Hello World.\"\n",
    "\n",
    "print(hw)\n",
    "print('--')\n",
    "print(s)"
   ]
  },
  {
   "cell_type": "markdown",
   "metadata": {},
   "source": [
    "# Large title font\n",
    "## Smaller font\n",
    "\n",
    "We can write formatted text here, even with **a little emphasis** or *italic font*.\n",
    "\n",
    "* Asterisks can create\n",
    "* Bullet points\n",
    "\n",
    "1. A numbered start of a line will create\n",
    "an enumerated list"
   ]
  },
  {
   "cell_type": "markdown",
   "metadata": {},
   "source": [
    "C:\\Users\\bmwei\\Jupyter Notebooks"
   ]
  },
  {
   "cell_type": "code",
   "execution_count": 1,
   "metadata": {},
   "outputs": [
    {
     "name": "stdout",
     "output_type": "stream",
     "text": [
      "Force is calculated to be: \n",
      "0.10300000000000001 Newtons for position 1.\n",
      "0.259952380952381 Newtons for position 2.\n"
     ]
    }
   ],
   "source": [
    "# Inverse square law force calculation\n",
    "\n",
    "A = 1 # force constant\n",
    "m1 = 0.53 # mass of first object in kilograms\n",
    "m2 = 10.3 # mass of second object in kilograms\n",
    "x1 = 3.0 # x-coordinate of the first object\n",
    "y1 = 0.0 # y-coordinate of the first object\n",
    "z1 = 5.0 # z-coordinate of the first object\n",
    "\n",
    "x2 = -1.0 # first x-coordinate of the second object\n",
    "y2 = 1.0 # first y-coordinate of the second object\n",
    "z2 = -1.0 # first z-coordinate of the second object\n",
    "x3 = 1.0 # second x-coordinate of the second object\n",
    "y3 = -1.0 # second y-coordinate of the second object\n",
    "z3 = 1.0 # second z-coordinate of the second object\n",
    "\n",
    "# squared distance between first object and the first position of the second object in meters squared\n",
    "r1 = (x2-x1)**2 + (y2-y1)**2 + (z2-z1)**2\n",
    "# squared distance between first object and the second position of the second object in meters squared\n",
    "r2 = (x3-x1)**2 + (y3-y1)**2 + (z3-z1)**2\n",
    "\n",
    "# force between first object and the first position of the second object in Newtons\n",
    "f1 = A*m1*m2/r1\n",
    "# force between first object and the second position of the second object in Newtons\n",
    "f2 = A*m1*m2/r2\n",
    "\n",
    "print(\"Force is calculated to be: \")\n",
    "print(str(f1) + \" Newtons for position 1.\")\n",
    "print(str(f2) + \" Newtons for position 2.\")"
   ]
  },
  {
   "cell_type": "code",
   "execution_count": 3,
   "metadata": {},
   "outputs": [
    {
     "name": "stdout",
     "output_type": "stream",
     "text": [
      "True\n",
      "False\n"
     ]
    }
   ],
   "source": [
    "print(y2>y1)\n",
    "print(y3>y1)"
   ]
  },
  {
   "cell_type": "markdown",
   "metadata": {},
   "source": [
    "# Assigned reading 3\n",
    "\n",
    "### 2.1\n",
    "E(x) = 1(1/6) + 2(1/6) + 3(1/6) + 4(1/6) + 5(1/6) + 6(1/6) = 3.5\n",
    "\n",
    "### 2.2\n",
    "To reduce the standard deviation of a set of N data points by a factor of 2, you must take 3N more data points to get a total of 4N data points. To reduce the standard deviation of a set of N data points by a factor of 10, you must take 99N more data points to get a total of 100N data points."
   ]
  },
  {
   "cell_type": "code",
   "execution_count": null,
   "metadata": {},
   "outputs": [],
   "source": []
  }
 ],
 "metadata": {
  "kernelspec": {
   "display_name": "Python 3",
   "language": "python",
   "name": "python3"
  },
  "language_info": {
   "codemirror_mode": {
    "name": "ipython",
    "version": 3
   },
   "file_extension": ".py",
   "mimetype": "text/x-python",
   "name": "python",
   "nbconvert_exporter": "python",
   "pygments_lexer": "ipython3",
   "version": "3.7.4"
  }
 },
 "nbformat": 4,
 "nbformat_minor": 2
}
