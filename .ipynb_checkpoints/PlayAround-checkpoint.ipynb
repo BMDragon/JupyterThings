{
 "cells": [
  {
   "cell_type": "code",
   "execution_count": 6,
   "metadata": {},
   "outputs": [],
   "source": [
    "import numpy as np"
   ]
  },
  {
   "cell_type": "code",
   "execution_count": 7,
   "metadata": {},
   "outputs": [],
   "source": [
    "codes = np.array([])\n",
    "intt = np.array([])\n",
    "hold = 1\n",
    "first = \"A\"\n",
    "fi = 0\n",
    "mid = \"A\"\n",
    "mi = 0\n",
    "last = \"A\"\n",
    "li = 0\n",
    "abc = [\"A\", \"B\", \"C\", \"D\", \"E\", \"F\", \"G\", \"H\", \"I\", \"J\", \"K\", \"L\", \"M\",\n",
    "       \"N\", \"O\", \"P\", \"Q\", \"R\", \"S\", \"T\", \"U\", \"V\", \"W\", \"X\", \"Y\", \"Z\", \"A\"]\n",
    "leng = 26**3"
   ]
  },
  {
   "cell_type": "code",
   "execution_count": 8,
   "metadata": {},
   "outputs": [],
   "source": [
    "for i in range(leng):\n",
    "    string = first + mid + last\n",
    "    codes = np.append(codes, string)\n",
    "    intt = np.append(intt, hold)\n",
    "    hold +=1\n",
    "    if last != \"Z\":\n",
    "        li += 1\n",
    "        last = abc[li]\n",
    "    elif mid != \"Z\":\n",
    "        li = 0\n",
    "        mi += 1\n",
    "        last = abc[li]\n",
    "        mid = abc[mi]\n",
    "    else:\n",
    "        li = 0\n",
    "        mi = 0\n",
    "        fi += 1\n",
    "        last = abc[li]\n",
    "        mid = abc[mi]\n",
    "        first = abc[fi]\n",
    "        "
   ]
  },
  {
   "cell_type": "code",
   "execution_count": 9,
   "metadata": {},
   "outputs": [
    {
     "name": "stdout",
     "output_type": "stream",
     "text": [
      "['AAA' 'AAB' 'AAC' ... 'ZZX' 'ZZY' 'ZZZ']\n"
     ]
    }
   ],
   "source": [
    "print(codes)"
   ]
  },
  {
   "cell_type": "code",
   "execution_count": 13,
   "metadata": {},
   "outputs": [],
   "source": [
    "np.savetxt(\"codes.csv\", codes, fmt = \"%s\")"
   ]
  },
  {
   "cell_type": "code",
   "execution_count": null,
   "metadata": {},
   "outputs": [],
   "source": []
  }
 ],
 "metadata": {
  "kernelspec": {
   "display_name": "Python 3",
   "language": "python",
   "name": "python3"
  },
  "language_info": {
   "codemirror_mode": {
    "name": "ipython",
    "version": 3
   },
   "file_extension": ".py",
   "mimetype": "text/x-python",
   "name": "python",
   "nbconvert_exporter": "python",
   "pygments_lexer": "ipython3",
   "version": "3.7.4"
  }
 },
 "nbformat": 4,
 "nbformat_minor": 2
}
