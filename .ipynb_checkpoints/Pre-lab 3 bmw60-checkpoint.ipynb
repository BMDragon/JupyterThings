{
 "cells": [
  {
   "cell_type": "markdown",
   "metadata": {},
   "source": [
    "# Some review\n",
    "\n",
    "\n",
    "## NumPy is a module. \n",
    "\n",
    "NumPy is a *python module*.  A python module is a package of functions that extends the Python language by adding new functionality. \n",
    "\n",
    "Matplotlib.pyplot is likewise a *module* which gives you new commands with capability to produce and display high quality plots.  \n",
    "\n",
    "By default, if you type:\n",
    "\n",
    "```\n",
    "import some_module\n",
    "```\n",
    "\n",
    "Then the python module called `some_module` will have its own *namespace*.  This means that the functions / commands that the module provides are accessed under the \"umbrella\" of the module name, using a period after the modulename to denote the module's command you intend to use.  For example, NumPy commands are accessed like this:\n",
    "\n",
    "```\n",
    "#First import the module.  \n",
    "import numpy\n",
    "\n",
    "#Access some module functions\n",
    "#(assuming 'myarray' is a NumPy array with numbers in it...)\n",
    "numpy.mean(myarray)\n",
    "numpy.std(myarray)\n",
    "```\n",
    "\n",
    "This follows the general form  `numpy.somefunction()`.\n",
    "\n",
    "### Giving modules shorter 'nicknames'\n",
    "\n",
    "If you don't want to type \"numpy.\" all the time, you can shorten it up by giving NumPy a nickname, as follows:\n",
    "\n",
    "\n",
    "```\n",
    "import numpy as np\n",
    "```\n",
    "\n",
    "Then all NumPy commands will be given the (much shorter) namespace of \"np\" (or any other name you decide) and you can type things like:\n",
    "\n",
    "```\n",
    "np.mean(myarray)\n",
    "np.std(myarray)\n",
    "\n",
    "#etc\n",
    "```\n",
    "\n",
    "### What about matplotlib.pyplot?\n",
    "\n",
    "You of course can do this with any module.  So for instance:\n",
    "\n",
    "```\n",
    "import matplotlib.pyplot as plotbert\n",
    "```\n",
    "\n",
    "Then this becomes the designator for all plotting functions, and to make a histogram you would then type:\n",
    "\n",
    "```\n",
    "plotbert.hist(mydata, bins=10)\n",
    "\n",
    "plotbert.show()\n",
    "```\n",
    "\n"
   ]
  },
  {
   "cell_type": "markdown",
   "metadata": {},
   "source": [
    "### Exercise 1\n",
    "\n",
    "In the cell below,  import numpy and matplotlib.pyplot, giving then nicknames of your choice."
   ]
  },
  {
   "cell_type": "code",
   "execution_count": 1,
   "metadata": {},
   "outputs": [],
   "source": [
    "import numpy as num\n",
    "import matplotlib.pyplot as mat"
   ]
  },
  {
   "cell_type": "markdown",
   "metadata": {},
   "source": [
    "# Further practice: NumPy Array \"superpowers\"\n",
    "\n",
    "Remember that NumPy arrays have special capabilities that reduce the amount of code, and time, necessary to do many complex tasks.   In essence, NumPy they have certain \"super-powers\". \n",
    "\n",
    "These special commands are **built into the array itself**, and can do calculations on the data **within that array**, and then yield a result for you. For example,\n",
    "\n",
    "```\n",
    "diffs = my_array - 3.1415\n",
    "```\n",
    "\n",
    "## The linspace command\n",
    "\n",
    "The `numpy.linspace` command is very useful.  Here is the format:\n",
    "\n",
    "`myarray = numpy.linspace( start_value, end_value, number_of_values)`\n",
    "\n",
    "So for example,\n",
    "\n",
    "`myvalues = numpy.linspace( 0, 10, 100)` will produce an array with entries beginning at zero and ending exactly at 10.0 with 100 total entries in the array.\n",
    "\n",
    "## Array slicing\n",
    "\n",
    "You can return a *slice* of the array (values between entry number x and entry number y) like so:\n",
    "\n",
    "myslice = myarray[x:y]\n",
    "\n",
    "You should try this on a real array to see what this does."
   ]
  },
  {
   "cell_type": "markdown",
   "metadata": {},
   "source": [
    "### Exercise 2\n",
    "\n",
    "Make some code cells below to answer the questions that follow.  Create one new Python code cell for each question below.  Perform the following operations on the array \"thirty\" and display the result.  Do NOT use a for loop unless you are specifically asked (you shouldn't need one).\n",
    "\n",
    "You may need to make some extra cells and experiment before you write your final answer.\n",
    "\n",
    "0.  Use the numpy.linspace command to define an array called `thirty` that has exactly 30 increments starting at 0.0 and ending at 3.0. Then use `thirty` as the array to answer questions 1 - 7.\n",
    "\n",
    "1.  The cube of every value in the array.\n",
    "\n",
    "2.  The sine of every value in the array.\n",
    "\n",
    "3.  The mean of the **slice** of thirty from the 10th element to the 15th element.\n",
    "\n",
    "4.  The uncertainty in that mean.\n",
    "\n",
    "5.  Every value in thirty multiplied by the square of every value in the array.\n",
    "\n",
    "6.  Do #5 again, except now use a \"for loop\" the old fashioned way.\n",
    "\n",
    "7.  The minimum and maximum values of the resultant array in question 6.  \n",
    "\n",
    "8.  Print the following values:  a) The first element in the array.  b) The thirtieth element in the array.  c) Elements 10 through 20  (use array slicing).\n",
    " "
   ]
  },
  {
   "cell_type": "code",
   "execution_count": 2,
   "metadata": {},
   "outputs": [],
   "source": [
    "#Define your array \"thirty\" using a linspace command.\n",
    "thirty = num.linspace(0.0, 3.0, 31)"
   ]
  },
  {
   "cell_type": "code",
   "execution_count": 3,
   "metadata": {},
   "outputs": [
    {
     "name": "stdout",
     "output_type": "stream",
     "text": [
      "1: [0.0000e+00 1.0000e-03 8.0000e-03 2.7000e-02 6.4000e-02 1.2500e-01\n",
      " 2.1600e-01 3.4300e-01 5.1200e-01 7.2900e-01 1.0000e+00 1.3310e+00\n",
      " 1.7280e+00 2.1970e+00 2.7440e+00 3.3750e+00 4.0960e+00 4.9130e+00\n",
      " 5.8320e+00 6.8590e+00 8.0000e+00 9.2610e+00 1.0648e+01 1.2167e+01\n",
      " 1.3824e+01 1.5625e+01 1.7576e+01 1.9683e+01 2.1952e+01 2.4389e+01\n",
      " 2.7000e+01] \n",
      "\n",
      "2: [0.         0.09983342 0.19866933 0.29552021 0.38941834 0.47942554\n",
      " 0.56464247 0.64421769 0.71735609 0.78332691 0.84147098 0.89120736\n",
      " 0.93203909 0.96355819 0.98544973 0.99749499 0.9995736  0.99166481\n",
      " 0.97384763 0.94630009 0.90929743 0.86320937 0.8084964  0.74570521\n",
      " 0.67546318 0.59847214 0.51550137 0.42737988 0.33498815 0.23924933\n",
      " 0.14112001] \n",
      "\n",
      "3: 1.2000000000000002 \n",
      "\n",
      "4: 0.0632455532033676 \n",
      "\n",
      "5: [0.0000e+00 1.0000e-03 8.0000e-03 2.7000e-02 6.4000e-02 1.2500e-01\n",
      " 2.1600e-01 3.4300e-01 5.1200e-01 7.2900e-01 1.0000e+00 1.3310e+00\n",
      " 1.7280e+00 2.1970e+00 2.7440e+00 3.3750e+00 4.0960e+00 4.9130e+00\n",
      " 5.8320e+00 6.8590e+00 8.0000e+00 9.2610e+00 1.0648e+01 1.2167e+01\n",
      " 1.3824e+01 1.5625e+01 1.7576e+01 1.9683e+01 2.1952e+01 2.4389e+01\n",
      " 2.7000e+01] \n",
      "\n"
     ]
    }
   ],
   "source": [
    "print(\"1:\", num.power(thirty,3), \"\\n\")\n",
    "print(\"2:\", num.sin(thirty), \"\\n\")\n",
    "middle = thirty[10:15]\n",
    "print(\"3:\", num.mean(middle), \"\\n\")\n",
    "print(\"4:\", num.std(middle)/(5**0.5), \"\\n\")\n",
    "print(\"5:\", num.multiply(thirty, num.power(thirty,2)), \"\\n\")"
   ]
  },
  {
   "cell_type": "code",
   "execution_count": 4,
   "metadata": {},
   "outputs": [
    {
     "name": "stdout",
     "output_type": "stream",
     "text": [
      "6: [0.0000e+00 1.0000e-03 8.0000e-03 2.7000e-02 6.4000e-02 1.2500e-01\n",
      " 2.1600e-01 3.4300e-01 5.1200e-01 7.2900e-01 1.0000e+00 1.3310e+00\n",
      " 1.7280e+00 2.1970e+00 2.7440e+00 3.3750e+00 4.0960e+00 4.9130e+00\n",
      " 5.8320e+00 6.8590e+00 8.0000e+00 9.2610e+00 1.0648e+01 1.2167e+01\n",
      " 1.3824e+01 1.5625e+01 1.7576e+01 1.9683e+01 2.1952e+01 2.4389e+01\n",
      " 2.7000e+01] \n",
      "\n",
      "7: min- 0.0   max- 27.0 \n",
      "\n",
      "8: first- 0.0   thirtieth- 2.9000000000000004   10 to 20- [1.  1.1 1.2 1.3 1.4 1.5 1.6 1.7 1.8 1.9]\n"
     ]
    }
   ],
   "source": [
    "x3 = num.zeros(31)\n",
    "for i in range(0,31):\n",
    "    x3[i] = thirty[i] * thirty[i]**2\n",
    "print(\"6:\", x3, \"\\n\")\n",
    "print(\"7: min-\", num.min(x3),\"  max-\",num.max(x3), \"\\n\")\n",
    "print(\"8: first-\", thirty[0], \"  thirtieth-\", thirty[29], \"  10 to 20-\", thirty[10:20])"
   ]
  },
  {
   "cell_type": "markdown",
   "metadata": {},
   "source": [
    "# Required Reading & Exercise 3\n",
    "\n",
    "Making numerical models, plotting functions in Python and Exercise 3 are contained at the following link.  Make extra cells in this Jupyter Notebook to do the activity contained therein.\n",
    "\n",
    "[Required reading and Exercise 3](https://labs.phy.duke.edu/index.php/Labs:161L_Week_4_Prelab_v2)\n",
    "\n",
    "**Write your answers / code for Exercise 3 WITHIN THIS JUPYTER NOTEBOOK.**"
   ]
  },
  {
   "cell_type": "markdown",
   "metadata": {
    "collapsed": true
   },
   "source": [
    "1. Produce function plots of the power law we've discussed above, assuming C=1.0, for different powers p=1,2,2.5,and3. Make your plot for separations between a small value (which is nonetheless tractable) like 0.5 meters (we can't go too near to zero because force becomes infinite and it's not computationally sound to try and divide by zero!) and a separation of 4.0 meters.\n",
    "\n",
    "Superimpose the functions on top of each other, all in the same plot. You can do this by making multiple plot commands, one after the other, without using \"show()\" until the very end. Try different plot styles for each plot: \"g:\", \"r.\", \"b-\", \"y\". Print your plot and put this in your pre-lab notebook.\n",
    "\n",
    "\n",
    "2. Now use the \"np.log()\" function to plot log y vs log x for each of the inverse power functions you just plotted. Again do these all superimposed on the same graph.\n",
    "\n",
    "3. What do you notice about the \"log-log\" plot -- what shape are these functions? Comment on the steepness -- what appears to be the relationship?"
   ]
  },
  {
   "cell_type": "code",
   "execution_count": 5,
   "metadata": {},
   "outputs": [
    {
     "data": {
      "image/png": "[encoded data removed]",
      "text/plain": [
       "<Figure size 432x288 with 1 Axes>"
      ]
     },
     "metadata": {
      "needs_background": "light"
     },
     "output_type": "display_data"
    }
   ],
   "source": [
    "dist = num.linspace(0.5, 4.0)\n",
    "p1 = 1/dist\n",
    "p2 = 1/(dist**2)\n",
    "p2h = 1/(dist**2.5)\n",
    "p3 = 1/(dist**3)\n",
    "\n",
    "mat.plot(dist,p1, \"g:\")\n",
    "mat.plot(dist,p2, \"r.\")\n",
    "mat.plot(dist,p2h, \"b-\")\n",
    "mat.plot(dist,p3, \"y\")\n",
    "mat.show()"
   ]
  },
  {
   "cell_type": "code",
   "execution_count": 6,
   "metadata": {},
   "outputs": [
    {
     "data": {
      "image/png": "[encoded data removed]",
      "text/plain": [
       "<Figure size 432x288 with 1 Axes>"
      ]
     },
     "metadata": {
      "needs_background": "light"
     },
     "output_type": "display_data"
    }
   ],
   "source": [
    "mat.plot(num.log(dist),num.log(p1), \"g:\")\n",
    "mat.plot(num.log(dist),num.log(p2), \"r.\")\n",
    "mat.plot(num.log(dist),num.log(p2h), \"b-\")\n",
    "mat.plot(num.log(dist),num.log(p3), \"y\")\n",
    "mat.show()"
   ]
  },
  {
   "cell_type": "markdown",
   "metadata": {},
   "source": [
    "The log-log plot shows all straight lines where the slope is the exponent that dist gets raised to (it is negative since dist is in the denominator)."
   ]
  },
  {
   "cell_type": "code",
   "execution_count": null,
   "metadata": {},
   "outputs": [],
   "source": []
  }
 ],
 "metadata": {
  "kernelspec": {
   "display_name": "Python 3",
   "language": "python",
   "name": "python3"
  },
  "language_info": {
   "codemirror_mode": {
    "name": "ipython",
    "version": 3
   },
   "file_extension": ".py",
   "mimetype": "text/x-python",
   "name": "python",
   "nbconvert_exporter": "python",
   "pygments_lexer": "ipython3",
   "version": "3.7.4"
  }
 },
 "nbformat": 4,
 "nbformat_minor": 1
}
