{
 "cells": [
  {
   "cell_type": "code",
   "execution_count": 1,
   "metadata": {},
   "outputs": [],
   "source": [
    "import numpy as np"
   ]
  },
  {
   "cell_type": "code",
   "execution_count": 172,
   "metadata": {},
   "outputs": [],
   "source": [
    "sett = np.array([5, 1, 2, 20, 9, 30])\n",
    "c = np.array([])\n",
    "dic = {}"
   ]
  },
  {
   "cell_type": "code",
   "execution_count": 179,
   "metadata": {},
   "outputs": [],
   "source": [
    "def d(i, j, cr):\n",
    "    if i >= j:\n",
    "        return 0, cr\n",
    "    if (i, j) in dic:\n",
    "        return dic[(i, j)]\n",
    "    w, cr1 = d(i+1, j-1, cr)\n",
    "    w = w - sett[j]\n",
    "    x, cr2 = d(i+2, j, cr)\n",
    "    x = x - sett[i+1]\n",
    "    y, cr3 = d(i+1, j-1, cr)\n",
    "    y = y - sett[i]\n",
    "    z, cr4 = d(i, j-2, cr)\n",
    "    z = z - sett[j-1]\n",
    "    a = sett[i] + min(w, x) \n",
    "    b = sett[j] + min(y, z)    \n",
    "    if a < b:\n",
    "        if y < z:\n",
    "            cr = np.append(cr3, np.array([\"R\"]))\n",
    "        else:\n",
    "            cr = np.append(cr4, np.array([\"R\"]))\n",
    "        dic[(i, j)] = (b, cr)\n",
    "        return b, cr\n",
    "    if w < x:\n",
    "        cr = np.append(cr1, np.array([\"L\"]))\n",
    "    else:\n",
    "        cr = np.append(cr2, np.array([\"L\"]))\n",
    "    dic[(i, j)] = (a, cr)\n",
    "    return a, cr"
   ]
  },
  {
   "cell_type": "code",
   "execution_count": 181,
   "metadata": {},
   "outputs": [
    {
     "name": "stdout",
     "output_type": "stream",
     "text": [
      "35\n",
      "['R' 'L' 'L']\n"
     ]
    }
   ],
   "source": [
    "ans, c = d(0, len(sett)-1, c)\n",
    "print(ans)\n",
    "print(np.flip(c))"
   ]
  },
  {
   "cell_type": "code",
   "execution_count": null,
   "metadata": {},
   "outputs": [],
   "source": []
  }
 ],
 "metadata": {
  "kernelspec": {
   "display_name": "Python 3",
   "language": "python",
   "name": "python3"
  },
  "language_info": {
   "codemirror_mode": {
    "name": "ipython",
    "version": 3
   },
   "file_extension": ".py",
   "mimetype": "text/x-python",
   "name": "python",
   "nbconvert_exporter": "python",
   "pygments_lexer": "ipython3",
   "version": "3.7.4"
  }
 },
 "nbformat": 4,
 "nbformat_minor": 2
}
