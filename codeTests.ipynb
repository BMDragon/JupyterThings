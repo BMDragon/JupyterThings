{
 "cells": [
  {
   "cell_type": "code",
   "execution_count": 1,
   "metadata": {},
   "outputs": [],
   "source": [
    "import numpy as np"
   ]
  },
  {
   "cell_type": "code",
   "execution_count": 172,
   "metadata": {},
   "outputs": [],
   "source": [
    "sett = np.array([5, 1, 2, 20, 9, 30])\n",
    "c = np.array([])\n",
    "dic = {}"
   ]
  },
  {
   "cell_type": "code",
   "execution_count": 179,
   "metadata": {},
   "outputs": [],
   "source": [
    "def d(i, j, cr):\n",
    "    if i >= j:\n",
    "        return 0, cr\n",
    "    if (i, j) in dic:\n",
    "        return dic[(i, j)]\n",
    "    w, cr1 = d(i+1, j-1, cr)\n",
    "    w = w - sett[j]\n",
    "    x, cr2 = d(i+2, j, cr)\n",
    "    x = x - sett[i+1]\n",
    "    y, cr3 = d(i+1, j-1, cr)\n",
    "    y = y - sett[i]\n",
    "    z, cr4 = d(i, j-2, cr)\n",
    "    z = z - sett[j-1]\n",
    "    a = sett[i] + min(w, x) \n",
    "    b = sett[j] + min(y, z)    \n",
    "    if a < b:\n",
    "        if y < z:\n",
    "            cr = np.append(cr3, np.array([\"R\"]))\n",
    "        else:\n",
    "            cr = np.append(cr4, np.array([\"R\"]))\n",
    "        dic[(i, j)] = (b, cr)\n",
    "        return b, cr\n",
    "    if w < x:\n",
    "        cr = np.append(cr1, np.array([\"L\"]))\n",
    "    else:\n",
    "        cr = np.append(cr2, np.array([\"L\"]))\n",
    "    dic[(i, j)] = (a, cr)\n",
    "    return a, cr"
   ]
  },
  {
   "cell_type": "code",
   "execution_count": 181,
   "metadata": {},
   "outputs": [
    {
     "name": "stdout",
     "output_type": "stream",
     "text": [
      "35\n",
      "['R' 'L' 'L']\n"
     ]
    }
   ],
   "source": [
    "ans, c = d(0, len(sett)-1, c)\n",
    "print(ans)\n",
    "print(np.flip(c))"
   ]
  },
  {
   "cell_type": "code",
   "execution_count": 2,
   "metadata": {},
   "outputs": [
    {
     "name": "stdout",
     "output_type": "stream",
     "text": [
      "1\n",
      "4\n",
      "7\n",
      "10\n",
      "13\n",
      "16\n",
      "19\n",
      "22\n",
      "25\n",
      "28\n",
      "31\n",
      "34\n",
      "37\n",
      "40\n",
      "43\n",
      "46\n",
      "49\n",
      "52\n",
      "55\n",
      "58\n",
      "61\n",
      "64\n",
      "67\n",
      "70\n",
      "73\n",
      "76\n",
      "79\n",
      "82\n",
      "85\n",
      "88\n",
      "91\n",
      "94\n",
      "97\n",
      "100\n",
      "103\n",
      "106\n",
      "109\n",
      "112\n",
      "115\n",
      "118\n",
      "121\n",
      "124\n",
      "127\n",
      "130\n",
      "133\n",
      "136\n",
      "139\n",
      "142\n",
      "145\n",
      "148\n",
      "151\n",
      "154\n",
      "157\n",
      "160\n",
      "163\n",
      "166\n",
      "169\n",
      "172\n",
      "175\n",
      "178\n",
      "181\n",
      "184\n",
      "187\n",
      "190\n",
      "193\n",
      "196\n",
      "199\n",
      "202\n",
      "205\n",
      "208\n",
      "211\n",
      "214\n",
      "217\n",
      "220\n",
      "223\n",
      "226\n",
      "229\n",
      "232\n",
      "235\n",
      "238\n",
      "241\n",
      "244\n",
      "247\n",
      "250\n",
      "253\n",
      "256\n",
      "259\n",
      "262\n",
      "265\n",
      "268\n",
      "271\n",
      "274\n",
      "277\n",
      "280\n",
      "283\n",
      "286\n",
      "289\n",
      "292\n",
      "295\n",
      "298\n"
     ]
    }
   ],
   "source": [
    "for i in range(100):\n",
    "    print(3*i+1)"
   ]
  },
  {
   "cell_type": "code",
   "execution_count": null,
   "metadata": {},
   "outputs": [],
   "source": []
  }
 ],
 "metadata": {
  "kernelspec": {
   "display_name": "Python 3",
   "language": "python",
   "name": "python3"
  },
  "language_info": {
   "codemirror_mode": {
    "name": "ipython",
    "version": 3
   },
   "file_extension": ".py",
   "mimetype": "text/x-python",
   "name": "python",
   "nbconvert_exporter": "python",
   "pygments_lexer": "ipython3",
   "version": "3.7.4"
  }
 },
 "nbformat": 4,
 "nbformat_minor": 2
}
